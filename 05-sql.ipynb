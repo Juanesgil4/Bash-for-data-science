{
 "cells": [
  {
   "cell_type": "markdown",
   "metadata": {},
   "source": [
    "Bash para Ciencia de los Datos -- 5 -- SQL\n",
    "===\n",
    "\n",
    "**Juan David Velásquez Henao**  \n",
    "jdvelasq@unal.edu.co   \n",
    "Universidad Nacional de Colombia, Sede Medellín  \n",
    "Facultad de Minas  \n",
    "Medellín, Colombia\n",
    "\n",
    "---\n",
    "\n",
    "Haga click [aquí](https://github.com/jdvelasq/Bash-for-data-science/blob/master/05-sql.ipynb) para acceder a la última versión online.\n",
    "\n",
    "Haga click [aquí](http://nbviewer.jupyter.org/github/jdvelasq/Bash-for-data-science/blob/master/05-sql.ipynb) para ver la última versión online en `nbviewer`. \n",
    "\n",
    "---\n",
    "[Licencia](https://github.com/jdvelasq/transformacion-datos-bash/blob/master/LICENCIA.txt)  \n",
    "[Readme](https://github.com/jdvelasq/transformacion-datos-bash/blob/master/readme.md)"
   ]
  },
  {
   "cell_type": "markdown",
   "metadata": {},
   "source": [
    "# `csvkit`"
   ]
  },
  {
   "cell_type": "markdown",
   "metadata": {},
   "source": [
    "`csvkit` es una libreria que permite ejecutar consultas SQL sobre archivos de formato CSV, que es el lenguaje utilizado en los motores de bases de datos para acceder a la información; solo se abordará con efectos para consulta, no para administración de sistemas gestores de bases de datos."
   ]
  },
  {
   "cell_type": "markdown",
   "metadata": {},
   "source": [
    "Esta herramienta se instala utilizando el comando:\n",
    "\n",
    "    pip install csvkit\n",
    "    \n",
    "Esto implica que `Python` debe estar instalado."
   ]
  },
  {
   "cell_type": "markdown",
   "metadata": {},
   "source": [
    "# `in2csv`"
   ]
  },
  {
   "cell_type": "markdown",
   "metadata": {},
   "source": [
    "Permite transformar una fuente de datos en excel a csv. El siguiente código descarga un archivo de ejemplo."
   ]
  },
  {
   "cell_type": "code",
   "execution_count": null,
   "metadata": {
    "scrolled": true
   },
   "outputs": [],
   "source": [
    "curl -L -O https://github.com/onyxfish/csvkit/raw/master/examples/realdata/ne_1033_data.xlsx"
   ]
  },
  {
   "cell_type": "markdown",
   "metadata": {},
   "source": [
    "A continuación se extraen los datos de Microsoft Excel y se guardan en un archivo CSV."
   ]
  },
  {
   "cell_type": "code",
   "execution_count": null,
   "metadata": {
    "scrolled": false
   },
   "outputs": [],
   "source": [
    "## TODO: corregir los warg¡nings\n",
    "in2csv ne_1033_data.xlsx > data.csv"
   ]
  },
  {
   "cell_type": "code",
   "execution_count": 6,
   "metadata": {},
   "outputs": [
    {
     "name": "stdout",
     "output_type": "stream",
     "text": [
      "state,county,fips,nsn,item_name,quantity,ui,acquisition_cost,total_cost,ship_date,federal_supply_category,federal_supply_category_name,federal_supply_class,federal_supply_class_name\n",
      "NE,ADAMS,31001.0,1005-00-589-1271,\"RIFLE,7.62 MILLIMETER\",1.0,Each,138.0,138.0,2008-07-11,10.0,WEAPONS,1005.0,\"Guns, through 30 mm\"\n",
      "NE,ADAMS,31001.0,1005-00-589-1271,\"RIFLE,7.62 MILLIMETER\",1.0,Each,138.0,138.0,2008-07-11,10.0,WEAPONS,1005.0,\"Guns, through 30 mm\"\n",
      "NE,ADAMS,31001.0,1005-00-589-1271,\"RIFLE,7.62 MILLIMETER\",1.0,Each,138.0,138.0,2008-07-11,10.0,WEAPONS,1005.0,\"Guns, through 30 mm\"\n",
      "NE,ADAMS,31001.0,1005-00-589-1271,\"RIFLE,7.62 MILLIMETER\",1.0,Each,138.0,138.0,2008-07-11,10.0,WEAPONS,1005.0,\"Guns, through 30 mm\"\n",
      "NE,ADAMS,31001.0,1005-00-589-1271,\"RIFLE,7.62 MILLIMETER\",1.0,Each,138.0,138.0,2008-07-11,10.0,WEAPONS,1005.0,\"Guns, through 30 mm\"\n",
      "NE,ADAMS,31001.0,1005-00-589-1271,\"RIFLE,7.62 MILLIMETER\",1.0,Each,138.0,138.0,2008-07-11,10.0,WEAPONS,1005.0,\"Guns, through 30 mm\"\n",
      "NE,BUFFALO,31019.0,1005-00-073-9421,\"RIFLE,5.56 MILLIMETER\",1.0,Each,499.0,499.0,2008-09-24,10.0,WEAPONS,1005.0,\"Guns, through 30 mm\"\n",
      "NE,BUFFALO,31019.0,1005-00-073-9421,\"RIFLE,5.56 MILLIMETER\",1.0,Each,499.0,499.0,2008-09-24,10.0,WEAPONS,1005.0,\"Guns, through 30 mm\"\n",
      "NE,BUFFALO,31019.0,1005-00-073-9421,\"RIFLE,5.56 MILLIMETER\",1.0,Each,499.0,499.0,2008-09-24,10.0,WEAPONS,1005.0,\"Guns, through 30 mm\"\n"
     ]
    }
   ],
   "source": [
    "head data.csv"
   ]
  },
  {
   "cell_type": "markdown",
   "metadata": {},
   "source": [
    "# `csvcut`"
   ]
  },
  {
   "cell_type": "markdown",
   "metadata": {},
   "source": [
    "`csvcut` trabaja sobre las columnas; permite listarlas o hacer un subconjuto de las columnas en otro archivo."
   ]
  },
  {
   "cell_type": "code",
   "execution_count": 8,
   "metadata": {},
   "outputs": [
    {
     "name": "stdout",
     "output_type": "stream",
     "text": [
      "  1: state\n",
      "  2: county\n",
      "  3: fips\n",
      "  4: nsn\n",
      "  5: item_name\n",
      "  6: quantity\n",
      "  7: ui\n",
      "  8: acquisition_cost\n",
      "  9: total_cost\n",
      " 10: ship_date\n",
      " 11: federal_supply_category\n",
      " 12: federal_supply_category_name\n",
      " 13: federal_supply_class\n",
      " 14: federal_supply_class_name\n"
     ]
    }
   ],
   "source": [
    "csvcut -n data.csv "
   ]
  },
  {
   "cell_type": "code",
   "execution_count": 9,
   "metadata": {
    "scrolled": true
   },
   "outputs": [
    {
     "name": "stdout",
     "output_type": "stream",
     "text": [
      "item_name,quantity\n",
      "\"RIFLE,7.62 MILLIMETER\",1.0\n",
      "\"RIFLE,7.62 MILLIMETER\",1.0\n",
      "\"RIFLE,7.62 MILLIMETER\",1.0\n",
      "\"RIFLE,7.62 MILLIMETER\",1.0\n",
      "\"RIFLE,7.62 MILLIMETER\",1.0\n",
      "\"RIFLE,7.62 MILLIMETER\",1.0\n",
      "\"RIFLE,5.56 MILLIMETER\",1.0\n",
      "\"RIFLE,5.56 MILLIMETER\",1.0\n",
      "\"RIFLE,5.56 MILLIMETER\",1.0\n"
     ]
    }
   ],
   "source": [
    "csvcut -c item_name,quantity data.csv > new.csv\n",
    "head new.csv"
   ]
  },
  {
   "cell_type": "markdown",
   "metadata": {},
   "source": [
    "# `csvsql`"
   ]
  },
  {
   "cell_type": "markdown",
   "metadata": {},
   "source": [
    "El parámetro `--query` del comando `csvsql` permite ejecutar consultas sobre un archivo usando el lenguaje SQL."
   ]
  },
  {
   "cell_type": "code",
   "execution_count": 10,
   "metadata": {
    "scrolled": false
   },
   "outputs": [
    {
     "name": "stdout",
     "output_type": "stream",
     "text": [
      "item_name,quantity\n",
      "\"RIFLE,7.62 MILLIMETER\",1\n",
      "\"RIFLE,7.62 MILLIMETER\",1\n",
      "\"RIFLE,7.62 MILLIMETER\",1\n",
      "\"RIFLE,7.62 MILLIMETER\",1\n",
      "\"RIFLE,7.62 MILLIMETER\",1\n",
      "\"RIFLE,7.62 MILLIMETER\",1\n",
      "\"RIFLE,5.56 MILLIMETER\",1\n",
      "\"RIFLE,5.56 MILLIMETER\",1\n",
      "\"RIFLE,5.56 MILLIMETER\",1\n"
     ]
    }
   ],
   "source": [
    "csvsql --query 'select item_name,quantity from data' data.csv > new2.csv\n",
    "head new2.csv"
   ]
  },
  {
   "cell_type": "markdown",
   "metadata": {},
   "source": [
    "Como se puede apreciar,  permite ejecutar cualquier consulta del tipo DML (se usan para consultar, filtrar y ordenar datos), los elementos que constituyen una consulta sql de este tipo son \n",
    "\n",
    "    SELECT <campos o columnas a visualizar> \n",
    "    FROM  <tabla o consulta> \n",
    "    WHERE <condiciones sobre las columnas de la tabla> \n",
    "    GROUP BY <campos por los cuales se formaran conjuntos> \n",
    "    ORDER BY <ordernar por un conjunto de columnas>"
   ]
  },
  {
   "cell_type": "markdown",
   "metadata": {},
   "source": [
    "Por ejemplo, para agrupar por producto y obtener la suma del campo `quantity` del archivo data.csv para todos aquellos items que no tengan el nombre en blanco se utiliza la siguiente consulta:"
   ]
  },
  {
   "cell_type": "code",
   "execution_count": 12,
   "metadata": {
    "scrolled": true
   },
   "outputs": [
    {
     "name": "stdout",
     "output_type": "stream",
     "text": [
      "item_name,total\n",
      "BAG DUFFEL,40\n",
      "\"BAG,CLOTHING\",50\n",
      "\"BAG,FLYER'S HELMET\",9\n",
      "\"BARREL,CARBINE\",2\n",
      "BINOCULAR,5\n",
      "BIVY COVER,25\n",
      "\"BOOTS,COMBAT\",5\n",
      "\"CAMOUFLAGE NET SYSTEM,RADAR SCATTERING\",15\n",
      "CAMOUFLAGE SCREENING SYSTEM,4\n"
     ]
    }
   ],
   "source": [
    "csvsql --query 'select item_name,sum(quantity) as total from data where item_name != \"\" group by item_name' data.csv > out.1\n",
    "head out.1"
   ]
  },
  {
   "cell_type": "markdown",
   "metadata": {},
   "source": [
    "---"
   ]
  },
  {
   "cell_type": "markdown",
   "metadata": {},
   "source": [
    "## Borrado de archivos temporales"
   ]
  },
  {
   "cell_type": "markdown",
   "metadata": {},
   "source": [
    "A continuación se borran todos los archivos creados como ejemplos en este libro."
   ]
  },
  {
   "cell_type": "code",
   "execution_count": 13,
   "metadata": {
    "collapsed": true
   },
   "outputs": [],
   "source": [
    "rm out*"
   ]
  },
  {
   "cell_type": "markdown",
   "metadata": {},
   "source": [
    "---"
   ]
  },
  {
   "cell_type": "markdown",
   "metadata": {},
   "source": [
    "Bash para Ciencia de los Datos -- 5 -- SQL\n",
    "===\n",
    "\n",
    "**Juan David Velásquez Henao**  \n",
    "jdvelasq@unal.edu.co   \n",
    "Universidad Nacional de Colombia, Sede Medellín  \n",
    "Facultad de Minas  \n",
    "Medellín, Colombia\n",
    "\n",
    "---\n",
    "\n",
    "Haga click [aquí](https://github.com/jdvelasq/Bash-for-data-science/blob/master/05-sql.ipynb) para acceder a la última versión online.\n",
    "\n",
    "Haga click [aquí](http://nbviewer.jupyter.org/github/jdvelasq/Bash-for-data-science/blob/master/05-sql.ipynb) para ver la última versión online en `nbviewer`. \n",
    "\n",
    "---\n",
    "[Licencia](https://github.com/jdvelasq/transformacion-datos-bash/blob/master/LICENCIA.txt)  \n",
    "[Readme](https://github.com/jdvelasq/transformacion-datos-bash/blob/master/readme.md)"
   ]
  }
 ],
 "metadata": {
  "kernelspec": {
   "display_name": "Bash",
   "language": "bash",
   "name": "bash"
  },
  "language_info": {
   "codemirror_mode": "shell",
   "file_extension": ".sh",
   "mimetype": "text/x-sh",
   "name": "bash"
  }
 },
 "nbformat": 4,
 "nbformat_minor": 2
}
