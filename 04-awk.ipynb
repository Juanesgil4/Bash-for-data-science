{
 "cells": [
  {
   "cell_type": "markdown",
   "metadata": {},
   "source": [
    "# Transformación de Datos usando Bash -- 4 -- Edición de archivos con Awk\n",
    "Notas de clase sobre la transformacion de datos usando la línea de comandos en sistemas Linux"
   ]
  },
  {
   "cell_type": "markdown",
   "metadata": {},
   "source": [
    "**Juan David Velásquez Henao**   \n",
    "jdvelasq@unal.edu.co  \n",
    "Universidad Nacional de Colombia, Sede Medellín  \n",
    "Facultad de Minas  \n",
    "Medellín, Colombia  \n",
    "\n",
    "[Licencia](https://github.com/jdvelasq/transformacion-datos-bash/blob/master/LICENCIA.txt)  \n",
    "[Readme](https://github.com/jdvelasq/transformacion-datos-bash/blob/master/readme.md)"
   ]
  },
  {
   "cell_type": "markdown",
   "metadata": {},
   "source": [
    "**Software utilizado**.\n",
    "\n",
    "> Este es un documento interactivo escrito como un notebook de [Jupyter](http://jupyter.org), en el cual se presenta un tutorial sobre la transformación de datos usando Bash en el contexto de la ciencia de los datos. Los notebooks de Jupyter permiten incoporar simultáneamente código, texto, gráficos y ecuaciones. El código presentado en este notebook puede ejecutarse en los sistemas operativos Linux y OS X.\n",
    "\n",
    "> Haga click [aquí](https://github.com/jdvelasq/data-science-docs) para obtener instrucciones detalladas sobre como instalar Jupyter en Windows y Mac OS X.\n",
    "\n",
    "> Haga clic [aquí]() para ver la última versión de este documento en nbviewer.\n",
    "\n",
    "> Descargue la última versión de este documento a su disco duro; luego, carguelo y ejecutelo en línea en [Try Jupyter!](https://try.jupyter.org)"
   ]
  },
  {
   "cell_type": "markdown",
   "metadata": {},
   "source": [
    "**Bibliografía**.\n",
    "\n",
    "> [1] D. Cross. Data Munging with Perl. Maning Publications Co. 2001\n",
    "\n",
    "> [2] S. Redmond. Mastering QlikView. Packs Publishing, 2014.\n",
    "\n",
    "> [3] T. Meyr. Apple® Automator with AppleScript® Bible. Wiley Publishing, Inc., Indianapolis, Indiana, 2010.\n",
    "\n",
    "> [4] C. Albing, JP Vossen and C. Newham. Bash cookbook. O'Reilly, Media Inc. 2007. \n",
    "\n",
    "> [5] E. S. Raymond, The Art of Unix Programming. Addison-Wesley, 2004.\n",
    "\n",
    "> [6] K. McElhearn. The Mac OS X Command Line: Unix under the hood. Ibex, 2005.\n",
    "\n",
    "> [7] R. K. Michael. Mastering Unix Shell Scripting. Wiley, 2003."
   ]
  },
  {
   "cell_type": "markdown",
   "metadata": {},
   "source": [
    "**Recursos adicionales de aprendizaje**\n",
    "\n",
    "> [The Command Line Crash Course](http://cli.learncodethehardway.org/book/) \n",
    "\n",
    "> [The Linux Command Line](http://linuxcommand.org/tlcl.php) By William Shotts\n",
    "\n",
    "> [Learn Enough Command Line to Be Dangerous](https://www.learnenough.com/command-line-tutorial#sec-grepping) by Michael Hart\n",
    "\n",
    "> [Data Science at the Command Line](http://datascienceatthecommandline.com) by Jeroen Janssens\n",
    "\n",
    "> [The Mac OS X Command Line: Unix Under the Hood](http://www.wiley.com/WileyCDA/WileyTitle/productCd-0782143547.html) by Kirk McElhearn"
   ]
  },
  {
   "cell_type": "markdown",
   "metadata": {},
   "source": [
    "## `awk`"
   ]
  },
  {
   "cell_type": "markdown",
   "metadata": {},
   "source": [
    "`awk` es un comando para Unix creado para el procesamiento y reporte de archivos de texto que contengan varios campos de datos en una misma linea. Su uso básico es: \n",
    "\n",
    "awk [condición] '{printf\"formato\", argumentos}' filename\n"
   ]
  },
  {
   "cell_type": "code",
   "execution_count": 2,
   "metadata": {},
   "outputs": [
    {
     "name": "stdout",
     "output_type": "stream",
     "text": [
      "Usage: awk [POSIX or GNU style options] -f progfile [--] file ...\n",
      "Usage: awk [POSIX or GNU style options] [--] 'program' file ...\n",
      "POSIX options:\t\tGNU long options: (standard)\n",
      "\t-f progfile\t\t--file=progfile\n",
      "\t-F fs\t\t\t--field-separator=fs\n",
      "\t-v var=val\t\t--assign=var=val\n",
      "Short options:\t\tGNU long options: (extensions)\n",
      "\t-b\t\t\t--characters-as-bytes\n",
      "\t-c\t\t\t--traditional\n",
      "\t-C\t\t\t--copyright\n",
      "\t-d[file]\t\t--dump-variables[=file]\n",
      "\t-D[file]\t\t--debug[=file]\n",
      "\t-e 'program-text'\t--source='program-text'\n",
      "\t-E file\t\t\t--exec=file\n",
      "\t-g\t\t\t--gen-pot\n",
      "\t-h\t\t\t--help\n",
      "\t-i includefile\t\t--include=includefile\n",
      "\t-l library\t\t--load=library\n",
      "\t-L[fatal|invalid]\t--lint[=fatal|invalid]\n",
      "\t-M\t\t\t--bignum\n",
      "\t-N\t\t\t--use-lc-numeric\n",
      "\t-n\t\t\t--non-decimal-data\n",
      "\t-o[file]\t\t--pretty-print[=file]\n",
      "\t-O\t\t\t--optimize\n",
      "\t-p[file]\t\t--profile[=file]\n",
      "\t-P\t\t\t--posix\n",
      "\t-r\t\t\t--re-interval\n",
      "\t-S\t\t\t--sandbox\n",
      "\t-t\t\t\t--lint-old\n",
      "\t-V\t\t\t--version\n",
      "\n",
      "To report bugs, see node `Bugs' in `gawk.info', which is\n",
      "section `Reporting Problems and Bugs' in the printed version.\n",
      "\n",
      "gawk is a pattern scanning and processing language.\n",
      "By default it reads standard input and writes standard output.\n",
      "\n",
      "Examples:\n",
      "\tgawk '{ sum += $1 }; END { print sum }' file\n",
      "\tgawk -F: '{ print $1 }' /etc/passwd\n"
     ]
    },
    {
     "ename": "",
     "evalue": "1",
     "output_type": "error",
     "traceback": []
    }
   ],
   "source": [
    "'awk'"
   ]
  },
  {
   "cell_type": "markdown",
   "metadata": {},
   "source": [
    "**Algunos comandos importantes**:\n",
    "\n",
    "* *$0*     -> Todos los campos\n",
    "* *FS*     -> Separador de campos (TAB por defecto\n",
    "* *NF*     -> Número de campos en la linea actual\n",
    "* *NR*     -> Número de lineas en el archivo a procesar\n",
    "* *Length*     -> Longitud de la linea a procesar\n",
    "* *&&*     -> Operación lógica para la intersección\n",
    "* *||*     -> Operación lógica para la unión"
   ]
  },
  {
   "cell_type": "markdown",
   "metadata": {},
   "source": [
    "---"
   ]
  },
  {
   "cell_type": "markdown",
   "metadata": {},
   "source": [
    "En este libro se usa `awk` para realizar búsquedas (como se hace con `grep`) y editar los archivos.\n",
    "\n",
    "Primero se imprimen los primeros 20 números a un archivo."
   ]
  },
  {
   "cell_type": "code",
   "execution_count": 51,
   "metadata": {
    "collapsed": true
   },
   "outputs": [],
   "source": [
    "seq 20 > out.1"
   ]
  },
  {
   "cell_type": "markdown",
   "metadata": {},
   "source": [
    "Para imprimir todas las líneas que tienen un '1' se usaría: "
   ]
  },
  {
   "cell_type": "markdown",
   "metadata": {},
   "source": [
    "La cadena /1/ indica que la línea contenga un 1, los '/' son delimitadores. {print} al final indica que se imprima la linea."
   ]
  },
  {
   "cell_type": "code",
   "execution_count": 73,
   "metadata": {},
   "outputs": [
    {
     "name": "stdout",
     "output_type": "stream",
     "text": [
      "1\n",
      "10\n",
      "11\n",
      "12\n",
      "13\n",
      "14\n",
      "15\n",
      "16\n",
      "17\n",
      "18\n",
      "19\n"
     ]
    }
   ],
   "source": [
    "awk '/1/ {print}' out.1"
   ]
  },
  {
   "cell_type": "markdown",
   "metadata": {},
   "source": [
    "Para imprimir todas las líneas que tienen un `1` al final."
   ]
  },
  {
   "cell_type": "code",
   "execution_count": 74,
   "metadata": {},
   "outputs": [
    {
     "name": "stdout",
     "output_type": "stream",
     "text": [
      "1\n",
      "11\n"
     ]
    }
   ],
   "source": [
    "awk '/1$/ {print}' out.1"
   ]
  },
  {
   "cell_type": "markdown",
   "metadata": {},
   "source": [
    "El siguiente comando imprime la tercera línea:"
   ]
  },
  {
   "cell_type": "code",
   "execution_count": 75,
   "metadata": {},
   "outputs": [
    {
     "name": "stdout",
     "output_type": "stream",
     "text": [
      "3\n"
     ]
    }
   ],
   "source": [
    "awk 'NR == 3 {print}' out.1"
   ]
  },
  {
   "cell_type": "markdown",
   "metadata": {},
   "source": [
    "El siguiente comando imprime de la linea 3 a la linea 6."
   ]
  },
  {
   "cell_type": "code",
   "execution_count": 52,
   "metadata": {},
   "outputs": [
    {
     "name": "stdout",
     "output_type": "stream",
     "text": [
      "3\n",
      "4\n",
      "5\n",
      "6\n"
     ]
    }
   ],
   "source": [
    "awk '(NR >= 3) && (NR <= 6) {print $0}' out.1"
   ]
  },
  {
   "cell_type": "markdown",
   "metadata": {},
   "source": [
    "A continuación se requiere imprimir todos los registros excepto los contenidos entre la linea 3 y la linea 6:"
   ]
  },
  {
   "cell_type": "code",
   "execution_count": 11,
   "metadata": {},
   "outputs": [
    {
     "name": "stdout",
     "output_type": "stream",
     "text": [
      "1\n",
      "2\n",
      "7\n",
      "8\n",
      "9\n",
      "10\n",
      "11\n",
      "12\n",
      "13\n",
      "14\n",
      "15\n",
      "16\n",
      "17\n",
      "18\n",
      "19\n",
      "20\n"
     ]
    }
   ],
   "source": [
    "awk '!((NR >= 3) && (NR <= 6)) {print $0}' out.1"
   ]
  },
  {
   "cell_type": "code",
   "execution_count": 12,
   "metadata": {},
   "outputs": [
    {
     "name": "stdout",
     "output_type": "stream",
     "text": [
      "1\n",
      "2\n",
      "7\n",
      "8\n",
      "9\n",
      "10\n",
      "11\n",
      "12\n",
      "13\n",
      "14\n",
      "15\n",
      "16\n",
      "17\n",
      "18\n",
      "19\n",
      "20\n"
     ]
    }
   ],
   "source": [
    "awk '(NR > 6) || (NR < 3) {print $0}' out.1"
   ]
  },
  {
   "cell_type": "markdown",
   "metadata": {},
   "source": [
    "De la línea 15 al final:"
   ]
  },
  {
   "cell_type": "code",
   "execution_count": 13,
   "metadata": {},
   "outputs": [
    {
     "name": "stdout",
     "output_type": "stream",
     "text": [
      "15\n",
      "16\n",
      "17\n",
      "18\n",
      "19\n",
      "20\n"
     ]
    }
   ],
   "source": [
    "awk '(NR >= 15) && (NR <= NR) {print $0}' out.1"
   ]
  },
  {
   "cell_type": "markdown",
   "metadata": {},
   "source": [
    "---"
   ]
  },
  {
   "cell_type": "markdown",
   "metadata": {},
   "source": [
    "En el archivo:"
   ]
  },
  {
   "cell_type": "code",
   "execution_count": 9,
   "metadata": {
    "collapsed": true
   },
   "outputs": [],
   "source": [
    "cat > out.1 <<EOF\n",
    "FieldA, fieldD, gieldE, FieldG\n",
    "   2, X, 2X, 2XG\n",
    "   2, Y, 2Y, 2YG \n",
    "   3, Y, 3Y, 3YG\n",
    "   3, X, 3X, 3XG\n",
    "   4, Z, 4Z, 3XG\n",
    "EOF"
   ]
  },
  {
   "cell_type": "markdown",
   "metadata": {},
   "source": [
    "* `awk` permite realizar sustituciones mediante el comando `gsub()` compuesto por una expresión regular a reemplazar y el elemento que reemplazará dicha expresión regular. La g indica que es global, en caso de que se requiera una sustitución local, se debe utilizar la función `sub()`.\n",
    "\n"
   ]
  },
  {
   "cell_type": "markdown",
   "metadata": {},
   "source": [
    "Se desean cambiar las `X` por `x`. Note que se sustituyen todas las ocurrencias del archivo"
   ]
  },
  {
   "cell_type": "code",
   "execution_count": 75,
   "metadata": {},
   "outputs": [
    {
     "name": "stdout",
     "output_type": "stream",
     "text": [
      "FieldA, FieldD, FieldE, FieldG\n",
      "   2, x, 2X, 2XG\n",
      "   2, Y, 2Y, 2YG \n",
      "   3, Y, 3Y, 3YG\n",
      "   3, x, 3X, 3XG\n",
      "   4, Z, 4Z, 3xG\n"
     ]
    }
   ],
   "source": [
    "awk '{sub(/X/, \"x\"); print}' out.1"
   ]
  },
  {
   "cell_type": "markdown",
   "metadata": {},
   "source": [
    "Se puede utiliza el comando `gsub` para varias sustituciones separandolo por **`;`** :"
   ]
  },
  {
   "cell_type": "code",
   "execution_count": 76,
   "metadata": {},
   "outputs": [
    {
     "name": "stdout",
     "output_type": "stream",
     "text": [
      "FieldA, FieldD, FieldE, FieldG\n",
      "   2, x, 2x, 2xG\n",
      "   2, y, 2y, 2yG \n",
      "   3, y, 3y, 3yG\n",
      "   3, x, 3x, 3xG\n",
      "   4, Z, 4Z, 3xG\n"
     ]
    }
   ],
   "source": [
    "awk '{gsub(/X/, \"x\"); gsub(/Y/, \"y\"); print}' out.1"
   ]
  },
  {
   "cell_type": "markdown",
   "metadata": {},
   "source": [
    "---"
   ]
  },
  {
   "cell_type": "markdown",
   "metadata": {},
   "source": [
    "Sea el siguiente archivo:"
   ]
  },
  {
   "cell_type": "code",
   "execution_count": 54,
   "metadata": {
    "collapsed": true
   },
   "outputs": [],
   "source": [
    "cat > out.1 <<EOF\n",
    "Maria-1998:feb:2+M19\n",
    "David-1972:nov:25+J45\n",
    "Marco-2000:jun:4+V17\n",
    "EOF"
   ]
  },
  {
   "cell_type": "markdown",
   "metadata": {},
   "source": [
    "Se desea formatear la fecha de nacimiento completa de la persona y su edad, es decir, la primera linea tendría la siguiente estructura:\n",
    "\n",
    "```\n",
    "Maria-1998:feb:2+M19\n",
    "```\n",
    "\n",
    "debe cambiarse por:\n",
    "\n",
    "```\n",
    "Maria 1998-02-02 M 19\n",
    "```\n"
   ]
  },
  {
   "cell_type": "markdown",
   "metadata": {},
   "source": [
    " \n",
    "\n",
    "La función gensub permite realizar busquedas a través de expresiones regulares y reemplazar dichos valores por elementos a elección, de acuerdo a la frecuencia de coincidencia del patrón.\n",
    "\n",
    "\n",
    "El primer paso consiste en reemplazar *' : '* por *' - '*   ."
   ]
  },
  {
   "cell_type": "code",
   "execution_count": 58,
   "metadata": {
    "scrolled": true
   },
   "outputs": [
    {
     "name": "stdout",
     "output_type": "stream",
     "text": [
      "Maria-1998-feb:2+M19\n",
      "David-1972-nov:25+J45\n",
      "Marco-2000-jun:4+V17\n"
     ]
    }
   ],
   "source": [
    "awk '{print gensub(/:([a-z]*)/, \"-\\\\1\", 1)}' out.1 > out.2\n",
    "cat out.2"
   ]
  },
  {
   "cell_type": "markdown",
   "metadata": {},
   "source": [
    " El comando anterior sigue la siguiente lógica:\n",
    " \n",
    " \n",
    "*Patrón entrada*\n",
    "  \n",
    " * '/'   '/' indican el inicio y fin de la expresión regular.\n",
    " * '('   ')' contienen la expresión, caracter o dígito que se desea guardar.\n",
    " * [a-z] indica una cadena.\n",
    " * El caracter '*' indica que existen cadenas luego de la expresión regular\n",
    " \n",
    "*Patrón salida*\n",
    " * \"\\\\\\1\" primer elemento de la busqueda que fue guardado.\n",
    " \n",
    "*Frecuencia*\n",
    " * \"1\" se debe reemplazar cuando encuentre el patrón por primera vez."
   ]
  },
  {
   "cell_type": "code",
   "execution_count": 59,
   "metadata": {},
   "outputs": [
    {
     "name": "stdout",
     "output_type": "stream",
     "text": [
      "Maria-1998-feb-2+M19\n",
      "David-1972-nov-25+J45\n",
      "Marco-2000-jun-4+V17\n"
     ]
    }
   ],
   "source": [
    "awk '{print gensub(/:([0-9])/, \"-\\\\1\", 1)}' out.2 > out.3\n",
    "cat out.3"
   ]
  },
  {
   "cell_type": "code",
   "execution_count": 60,
   "metadata": {
    "scrolled": true
   },
   "outputs": [
    {
     "name": "stdout",
     "output_type": "stream",
     "text": [
      "Maria-1998-feb-02+M19\n",
      "David-1972-nov-05+J45\n",
      "Marco-2000-jun-04+V17\n"
     ]
    }
   ],
   "source": [
    "awk '{print gensub(/-([0-9])*/, \"-0\\\\1\", 3)}' out.3 > out.4\n",
    "cat out.4"
   ]
  },
  {
   "cell_type": "code",
   "execution_count": 61,
   "metadata": {},
   "outputs": [
    {
     "name": "stdout",
     "output_type": "stream",
     "text": [
      "Maria-1998-feb-02 M 19\n",
      "David-1972-nov-05 J 45\n",
      "Marco-2000-jun-04 V 17\n"
     ]
    }
   ],
   "source": [
    "awk '{print gensub(/+([A-Z])([0-9][0-9])/, \" \\\\1 \\\\2\", 1)}' out.4 > out.5\n",
    "cat out.5"
   ]
  },
  {
   "cell_type": "code",
   "execution_count": 66,
   "metadata": {
    "scrolled": true
   },
   "outputs": [
    {
     "name": "stdout",
     "output_type": "stream",
     "text": [
      "Maria 1998-feb-02 M 19\n",
      "David 1972-nov-05 J 45\n",
      "Marco 2000-jun-04 V 17\n"
     ]
    }
   ],
   "source": [
    "awk '{sub(/-/, \" \"); print}' out.5 > out.6\n",
    "cat out.6"
   ]
  },
  {
   "cell_type": "code",
   "execution_count": 72,
   "metadata": {},
   "outputs": [
    {
     "name": "stdout",
     "output_type": "stream",
     "text": [
      "Maria 1998-02-02 M 19\n",
      "David 1972-11-05 J 45\n",
      "Marco 2000-06-04 V 17\n"
     ]
    }
   ],
   "source": [
    "awk '{gsub(/feb/, \"02\"); gsub(/nov/, \"11\");gsub(/jun/, \"06\");print}' out.6"
   ]
  },
  {
   "cell_type": "markdown",
   "metadata": {},
   "source": [
    "---"
   ]
  },
  {
   "cell_type": "markdown",
   "metadata": {},
   "source": [
    "Sea el siguiente archivo:"
   ]
  },
  {
   "cell_type": "code",
   "execution_count": 36,
   "metadata": {
    "collapsed": true
   },
   "outputs": [],
   "source": [
    "cat > out.1 <<EOF\n",
    "Date, Price, Quantity, CustomerID\n",
    "2013-01-12, 25, 7, 1\n",
    "2014-05-12, 41, 5, 12\n",
    "2013-02-25, 44, 3, 2\n",
    "2013-04-04, 90, 1, 5\n",
    "2013-06-21, 16, 2, 19\n",
    "2014-05-12, 63, 2, 15\n",
    "2014-05-12, 10, 4, 7\n",
    "2013-02-28, 78, 8, 9\n",
    "2013-08-02, 51, 1, 14\n",
    "EOF"
   ]
  },
  {
   "cell_type": "markdown",
   "metadata": {},
   "source": [
    "* Se desea agregar un nuevo campo llamado `Quantity-CustomerID` que contenga la cantidad de producto y el cliente. El siguiente comando une las columnas de interés:"
   ]
  },
  {
   "cell_type": "code",
   "execution_count": 33,
   "metadata": {},
   "outputs": [
    {
     "name": "stdout",
     "output_type": "stream",
     "text": [
      "Date, Price, Quantity, CustomerID\n",
      "2013-01-12, 25, 7-1\n",
      "2014-05-12, 41, 5-12\n",
      "2013-02-25, 44, 3-2\n",
      "2013-04-04, 90, 1-5\n",
      "2013-06-21, 16, 2-19\n",
      "2014-05-12, 63, 2-15\n",
      "2014-05-12, 10, 4-7\n",
      "2013-02-28, 78, 8-9\n",
      "2013-08-02, 51, 1-14\n"
     ]
    }
   ],
   "source": [
    "awk '{print gensub(/, ([0-9][0-9]), ([0-9]), ([0-9])/, \", \\\\1, \\\\2-\\\\3\", 1)}' out.1 > out.2\n",
    "cat out.2"
   ]
  },
  {
   "cell_type": "markdown",
   "metadata": {},
   "source": [
    "Se agrega el título `Quantity-CustomerID`:"
   ]
  },
  {
   "cell_type": "code",
   "execution_count": 69,
   "metadata": {
    "scrolled": true
   },
   "outputs": [
    {
     "name": "stdout",
     "output_type": "stream",
     "text": [
      "Date, Price, Quantity-CustomerID\n",
      "2013-01-12, 25, 7-1\n",
      "2014-05-12, 41, 5-12\n",
      "2013-02-25, 44, 3-2\n",
      "2013-04-04, 90, 1-5\n",
      "2013-06-21, 16, 2-19\n",
      "2014-05-12, 63, 2-15\n",
      "2014-05-12, 10, 4-7\n",
      "2013-02-28, 78, 8-9\n",
      "2013-08-02, 51, 1-14\n"
     ]
    }
   ],
   "source": [
    "awk '{print gensub(/([a-zA-Z]*), ([a-zA-Z]*), ([a-zA-Z]*), ([a-zA-Z]*)/, \"\\\\1, \\\\2, \\\\3-\\\\4\", 1)}' out.2"
   ]
  },
  {
   "cell_type": "markdown",
   "metadata": {},
   "source": [
    "A través del comando `BEGIN` y `END` se pueden agregar valores al principio y al final de las columnas/columnas o de todo el archivo de texto. \n",
    "\n",
    "El comando `NR>1` indica que se debe tener en cuenta solo filas a partir de la posicion 1. De la misma forma, `{print $0}` indica que se deben tener en cuenta todas las columnas."
   ]
  },
  {
   "cell_type": "code",
   "execution_count": 35,
   "metadata": {},
   "outputs": [
    {
     "name": "stdout",
     "output_type": "stream",
     "text": [
      "Date, Price, Quantity-CustomerID\n",
      "2013-01-12, 25, 7-1\n",
      "2014-05-12, 41, 5-12\n",
      "2013-02-25, 44, 3-2\n",
      "2013-04-04, 90, 1-5\n",
      "2013-06-21, 16, 2-19\n",
      "2014-05-12, 63, 2-15\n",
      "2014-05-12, 10, 4-7\n",
      "2013-02-28, 78, 8-9\n",
      "2013-08-02, 51, 1-14\n"
     ]
    }
   ],
   "source": [
    "awk 'BEGIN{print \"Date, Price, Quantity-CustomerID\"}(NR>1){print $0}' out.2"
   ]
  },
  {
   "cell_type": "code",
   "execution_count": 55,
   "metadata": {},
   "outputs": [
    {
     "name": "stdout",
     "output_type": "stream",
     "text": [
      "7,\n",
      "5,\n",
      "3,\n",
      "1,\n",
      "2,\n",
      "2,\n",
      "4,\n",
      "8,\n",
      "1,\n",
      "Hola\n"
     ]
    }
   ],
   "source": [
    "awk '(NR>1){print $3} END{print \"Hola\"}' out.2"
   ]
  },
  {
   "cell_type": "markdown",
   "metadata": {},
   "source": [
    "* Se desea agregar un nuevo campo llamado `Quantity*Price` que contenga el total de la cuenta de cada compra. El comando {print `$1` `$2`} concatena e imprime columnas  iniciando el conteo en 1 para la primera de izquierda a derecha."
   ]
  },
  {
   "cell_type": "code",
   "execution_count": 45,
   "metadata": {},
   "outputs": [
    {
     "name": "stdout",
     "output_type": "stream",
     "text": [
      "Date, Price, Quantity,  CustomerID, 0\n",
      "2013-01-12, 25, 7,  1, 25\n",
      "2014-05-12, 41, 5,  12, 492\n",
      "2013-02-25, 44, 3,  2, 88\n",
      "2013-04-04, 90, 1,  5, 450\n",
      "2013-06-21, 16, 2,  19, 304\n",
      "2014-05-12, 63, 2,  15, 945\n",
      "2014-05-12, 10, 4,  7, 70\n",
      "2013-02-28, 78, 8,  9, 702\n",
      "2013-08-02, 51, 1,  14, 714\n"
     ]
    }
   ],
   "source": [
    "awk -F\",\" '{print $1\",\"$2\",\"$3\", \"$4\", \"$2*$4}' out.1 > out.2\n",
    "cat out.2"
   ]
  },
  {
   "cell_type": "markdown",
   "metadata": {},
   "source": [
    "Ahora, se debe agregar el título a la nueva columna:"
   ]
  },
  {
   "cell_type": "code",
   "execution_count": 48,
   "metadata": {},
   "outputs": [
    {
     "name": "stdout",
     "output_type": "stream",
     "text": [
      "Date, Price, Quantity,  CustomerID, Total\n",
      "2013-01-12, 25, 7,  1, 25\n",
      "2014-05-12, 41, 5,  12, 492\n",
      "2013-02-25, 44, 3,  2, 88\n",
      "2013-04-04, 90, 1,  5, 450\n",
      "2013-06-21, 16, 2,  19, 304\n",
      "2014-05-12, 63, 2,  15, 945\n",
      "2014-05-12, 10, 4,  7, 70\n",
      "2013-02-28, 78, 8,  9, 702\n",
      "2013-08-02, 51, 1,  14, 714\n"
     ]
    }
   ],
   "source": [
    "awk '{print gensub(/, 0/, \", Total\", 1)}' out.2 "
   ]
  },
  {
   "cell_type": "markdown",
   "metadata": {},
   "source": [
    "Se puede utilizar el comando la opción `-F` y `OFS` para cambiar el separador del archivo de texto:"
   ]
  },
  {
   "cell_type": "code",
   "execution_count": 49,
   "metadata": {},
   "outputs": [
    {
     "name": "stdout",
     "output_type": "stream",
     "text": [
      "Date| Price| Quantity|  CustomerID\n",
      "2013-01-12| 25| 7|  1\n",
      "2014-05-12| 41| 5|  12\n",
      "2013-02-25| 44| 3|  2\n",
      "2013-04-04| 90| 1|  5\n",
      "2013-06-21| 16| 2|  19\n",
      "2014-05-12| 63| 2|  15\n",
      "2014-05-12| 10| 4|  7\n",
      "2013-02-28| 78| 8|  9\n",
      "2013-08-02| 51| 1|  14\n"
     ]
    }
   ],
   "source": [
    "awk -F\",\" 'BEGIN{OFS=\"|\";}{print $1,$2,$3,$4}' out."
   ]
  },
  {
   "cell_type": "markdown",
   "metadata": {},
   "source": [
    "---"
   ]
  },
  {
   "cell_type": "markdown",
   "metadata": {},
   "source": [
    "**Ejercicio.--** Convierta el formato de las fechas de `D/M/Y` a `YYYY-MM-DD` en los archivos `order2000` ... `order2015`."
   ]
  },
  {
   "cell_type": "code",
   "execution_count": null,
   "metadata": {
    "collapsed": true
   },
   "outputs": [],
   "source": []
  },
  {
   "cell_type": "markdown",
   "metadata": {},
   "source": [
    "**Ejercicio.--** Convierta el formato de las fechas de `D/M/Y` a `YYYY-MM-DD` en los archivos `order2000` ... `order2015`."
   ]
  },
  {
   "cell_type": "code",
   "execution_count": null,
   "metadata": {
    "collapsed": true
   },
   "outputs": [],
   "source": []
  }
 ],
 "metadata": {
  "kernelspec": {
   "display_name": "Bash",
   "language": "bash",
   "name": "bash"
  },
  "language_info": {
   "codemirror_mode": "shell",
   "file_extension": ".sh",
   "mimetype": "text/x-sh",
   "name": "bash"
  }
 },
 "nbformat": 4,
 "nbformat_minor": 2
}
