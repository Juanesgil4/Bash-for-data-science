{
 "cells": [
  {
   "cell_type": "code",
   "execution_count": 4,
   "metadata": {},
   "outputs": [
    {
     "name": "stdout",
     "output_type": "stream",
     "text": [
      "2015, 1, --> [1] <--\n",
      "2015, 1, --> [2] <--\n",
      "2015, 1, --> [3] <--\n",
      "2016, 2, ------> [1] <------\n",
      "2016, 2, ------> [2] <------\n",
      "2016, 2, ------> [3] <------\n"
     ]
    }
   ],
   "source": [
    "seq -f\"2015, 1, --> [%g] <--\" 3 > out.1\n",
    "seq -f\"2016, 2, ------> [%g] <------\" 3 >> out.1\n",
    "cat out.1"
   ]
  },
  {
   "cell_type": "code",
   "execution_count": 6,
   "metadata": {},
   "outputs": [
    {
     "name": "stdout",
     "output_type": "stream",
     "text": [
      "5\n",
      "5\n",
      "5\n",
      "6\n",
      "6\n",
      "6\n"
     ]
    }
   ],
   "source": [
    "cut -c4-4 out.1 "
   ]
  },
  {
   "cell_type": "code",
   "execution_count": 7,
   "metadata": {},
   "outputs": [
    {
     "name": "stdout",
     "output_type": "stream",
     "text": [
      " 1\n",
      " 1\n",
      " 1\n",
      " 2\n",
      " 2\n",
      " 2\n"
     ]
    }
   ],
   "source": [
    "cut -d, -f2 out.1"
   ]
  },
  {
   "cell_type": "code",
   "execution_count": 8,
   "metadata": {},
   "outputs": [
    {
     "name": "stdout",
     "output_type": "stream",
     "text": [
      "1] <--\n",
      "2] <--\n",
      "3] <--\n",
      "1] <------\n",
      "2] <------\n",
      "3] <------\n"
     ]
    }
   ],
   "source": [
    "cut -d'[' -f2 out.1 "
   ]
  },
  {
   "cell_type": "code",
   "execution_count": 9,
   "metadata": {},
   "outputs": [
    {
     "name": "stdout",
     "output_type": "stream",
     "text": [
      "2015, 1, --> [1\n",
      "2015, 1, --> [2\n",
      "2015, 1, --> [3\n",
      "2016, 2, ------> [1\n",
      "2016, 2, ------> [2\n",
      "2016, 2, ------> [3\n"
     ]
    }
   ],
   "source": [
    "cut -d']' -f1 out.1 "
   ]
  },
  {
   "cell_type": "code",
   "execution_count": 10,
   "metadata": {},
   "outputs": [
    {
     "name": "stdout",
     "output_type": "stream",
     "text": [
      "1\n",
      "2\n",
      "3\n",
      "1\n",
      "2\n",
      "3\n"
     ]
    }
   ],
   "source": [
    "cut -d'[' -f2 out.1 | cut -d']' -f1 "
   ]
  },
  {
   "cell_type": "code",
   "execution_count": 14,
   "metadata": {
    "collapsed": true
   },
   "outputs": [],
   "source": [
    "seq -f\"--> [%g] <--\" 3 > out.1\n",
    "seq -f\"==> [%g] <==\" 3 > out.2\n",
    "seq -f\">>> [%g] <<<\" 3 > out.3\n",
    "seq -f\"..> [%g] <..\" 3 > out.4\n"
   ]
  },
  {
   "cell_type": "code",
   "execution_count": 15,
   "metadata": {},
   "outputs": [
    {
     "name": "stdout",
     "output_type": "stream",
     "text": [
      "--> [1] <--\n",
      "--> [2] <--\n",
      "--> [3] <--\n",
      "==> [1] <==\n",
      "==> [2] <==\n",
      "==> [3] <==\n",
      ">>> [1] <<<\n",
      ">>> [2] <<<\n",
      ">>> [3] <<<\n",
      "..> [1] <..\n",
      "..> [2] <..\n",
      "..> [3] <..\n"
     ]
    }
   ],
   "source": [
    "cat out.*\n"
   ]
  },
  {
   "cell_type": "code",
   "execution_count": 20,
   "metadata": {},
   "outputs": [
    {
     "name": "stdout",
     "output_type": "stream",
     "text": [
      "--> [1] <--,==> [1] <==\n",
      "--> [2] <--,==> [2] <==\n",
      "--> [3] <--,==> [3] <==\n"
     ]
    }
   ],
   "source": [
    "paste -d',' out.1 out.2\n"
   ]
  },
  {
   "cell_type": "code",
   "execution_count": 18,
   "metadata": {},
   "outputs": [
    {
     "name": "stdout",
     "output_type": "stream",
     "text": [
      "==> out.1 <==\n",
      "--> [2] <--\n",
      "--> [3] <--\n",
      "\n",
      "==> out.2 <==\n",
      "==> [2] <==\n",
      "==> [3] <==\n",
      "\n",
      "==> out.3 <==\n",
      ">>> [2] <<<\n",
      ">>> [3] <<<\n",
      "\n",
      "==> out.4 <==\n",
      "..> [2] <..\n",
      "..> [3] <..\n"
     ]
    }
   ],
   "source": [
    "tail +2 out.*\n"
   ]
  },
  {
   "cell_type": "code",
   "execution_count": 22,
   "metadata": {},
   "outputs": [
    {
     "name": "stdout",
     "output_type": "stream",
     "text": [
      "--> [1] <--\n"
     ]
    }
   ],
   "source": [
    "head -n1 out.1\n"
   ]
  },
  {
   "cell_type": "code",
   "execution_count": 23,
   "metadata": {},
   "outputs": [
    {
     "name": "stdout",
     "output_type": "stream",
     "text": [
      "\n",
      "SEQ(1)                    BSD General Commands Manual                   SEQ(1)\n",
      "\n",
      "NAME\n",
      "     seq -- print sequences of numbers\n",
      "\n",
      "SYNOPSIS\n",
      "     seq [-w] [-f format] [-s string] [-t string] [first [incr]] last\n",
      "\n",
      "DESCRIPTION\n",
      "     The seq utility prints a sequence of numbers, one per line (default),\n",
      "     from first (default 1), to near last as possible, in increments of incr\n",
      "     (default 1).  When first is larger than last the default incr is -1.\n",
      "\n",
      "     All numbers are interpreted as floating point.\n",
      "\n",
      "     Normally integer values are printed as decimal integers.\n",
      "\n",
      "     The seq utility accepts the following options:\n",
      "\n",
      "     -f format     Use a printf(3) style format to print each number.  Only\n",
      "                   the E, e, f, G, g, and % conversion characters are valid,\n",
      "                   along with any optional flags and an optional numeric mini-\n",
      "                   mum field width or precision.  The format can contain char-\n",
      "                   acter escape sequences in backslash notation as defined in\n",
      "                   ANSI X3.159-1989 (``ANSI C89'').  The default is %g.\n",
      "\n",
      "     -s string     Use string to separate numbers.  The string can contain\n",
      "                   character escape sequences in backslash notation as defined\n",
      "                   in ANSI X3.159-1989 (``ANSI C89'').  The default is \\n.\n",
      "\n",
      "     -t string     Use string to terminate sequence of numbers.  The string\n",
      "                   can contain character escape sequences in backslash nota-\n",
      "                   tion as defined in ANSI X3.159-1989 (``ANSI C89'').  This\n",
      "                   option is useful when the default separator does not con-\n",
      "                   tain a \\n.\n",
      "\n",
      "     -w            Equalize the widths of all numbers by padding with zeros as\n",
      "                   necessary.  This option has no effect with the -f option.\n",
      "                   If any sequence numbers will be printed in exponential\n",
      "                   notation, the default conversion is changed to %e.\n",
      "\n",
      "     The seq utility exits 0 on success and non-zero if an error occurs.\n",
      "\n",
      "EXAMPLES\n",
      "           # seq 1 3\n",
      "           1\n",
      "           2\n",
      "           3\n",
      "\n",
      "           # seq 3 1\n",
      "           3\n",
      "           2\n",
      "           1\n",
      "\n",
      "           # seq -w 0 .05 .1\n",
      "           0.00\n",
      "           0.05\n",
      "           0.10\n",
      "\n",
      "SEE ALSO\n",
      "     jot(1), printf(1), printf(3)\n",
      "\n",
      "HISTORY\n",
      "     The seq command first appeared in Plan 9 from Bell Labs.  A seq command\n",
      "     appeared in NetBSD 3.0, and ported to FreeBSD 9.0.  This command was\n",
      "     based on the command of the same name in Plan 9 from Bell Labs and the\n",
      "     GNU core utilities.  The GNU seq command first appeared in the 1.13 shell\n",
      "     utilities release.\n",
      "\n",
      "BUGS\n",
      "     The -w option does not handle the transition from pure floating point to\n",
      "     exponent representation very well.  The seq command is not bug for bug\n",
      "     compatible with the Plan 9 from Bell Labs or GNU versions of seq.\n",
      "\n",
      "BSD                            February 19, 2010                           BSD\n"
     ]
    }
   ],
   "source": [
    "man seq"
   ]
  },
  {
   "cell_type": "code",
   "execution_count": 33,
   "metadata": {},
   "outputs": [
    {
     "name": "stdout",
     "output_type": "stream",
     "text": [
      "2\n",
      "3\n",
      "4\n",
      "5\n",
      "6\n",
      "7\n",
      "8\n",
      "9\n",
      "10\n",
      "2\n",
      "3\n",
      "4\n",
      "5\n",
      "6\n",
      "7\n",
      "8\n",
      "9\n",
      "10\n",
      "2\n",
      "3\n",
      "4\n",
      "5\n",
      "6\n",
      "7\n",
      "8\n",
      "9\n",
      "10\n",
      "2\n",
      "3\n",
      "4\n",
      "5\n",
      "6\n",
      "7\n",
      "8\n",
      "9\n",
      "10\n",
      "2\n",
      "3\n",
      "4\n",
      "5\n",
      "6\n",
      "7\n",
      "8\n",
      "9\n",
      "10\n",
      "2\n",
      "3\n",
      "4\n",
      "5\n",
      "6\n",
      "7\n",
      "8\n",
      "9\n",
      "10\n",
      "2\n",
      "3\n",
      "4\n",
      "5\n",
      "6\n",
      "7\n",
      "8\n",
      "9\n",
      "10\n",
      "2\n",
      "3\n",
      "4\n",
      "5\n",
      "6\n",
      "7\n",
      "8\n",
      "9\n",
      "10\n",
      "2\n",
      "3\n",
      "4\n",
      "5\n",
      "6\n",
      "7\n",
      "8\n",
      "9\n",
      "10\n",
      "2\n",
      "3\n",
      "4\n",
      "5\n",
      "6\n",
      "7\n",
      "8\n",
      "9\n",
      "10\n",
      "2\n",
      "3\n",
      "4\n",
      "5\n",
      "6\n",
      "7\n",
      "8\n",
      "9\n",
      "10\n",
      "2\n",
      "3\n",
      "4\n",
      "5\n",
      "6\n",
      "7\n",
      "8\n",
      "9\n",
      "10\n",
      "2\n",
      "3\n",
      "4\n",
      "5\n",
      "6\n",
      "7\n",
      "8\n",
      "9\n",
      "10\n",
      "2\n",
      "3\n",
      "4\n",
      "5\n",
      "6\n",
      "7\n",
      "8\n",
      "9\n",
      "10\n",
      "2\n",
      "3\n",
      "4\n",
      "5\n",
      "6\n",
      "7\n",
      "8\n",
      "9\n",
      "10\n",
      "2\n",
      "3\n",
      "4\n",
      "5\n",
      "6\n",
      "7\n",
      "8\n",
      "9\n",
      "10\n",
      "2\n",
      "3\n",
      "4\n",
      "5\n",
      "6\n",
      "7\n",
      "8\n",
      "9\n",
      "10\n",
      "2\n",
      "3\n",
      "4\n",
      "5\n",
      "6\n",
      "7\n",
      "8\n",
      "9\n",
      "10\n",
      "2\n",
      "3\n",
      "4\n",
      "5\n",
      "6\n",
      "7\n",
      "8\n",
      "9\n",
      "10\n",
      "2\n",
      "3\n",
      "4\n",
      "5\n",
      "6\n",
      "7\n",
      "8\n",
      "9\n",
      "10\n",
      "2\n",
      "3\n",
      "4\n",
      "5\n",
      "6\n",
      "7\n",
      "8\n",
      "9\n",
      "10\n",
      "2\n",
      "3\n",
      "4\n",
      "5\n",
      "6\n",
      "7\n",
      "8\n",
      "9\n",
      "10\n",
      "2\n",
      "3\n",
      "4\n",
      "5\n",
      "6\n",
      "7\n",
      "8\n",
      "9\n",
      "10\n",
      "2\n",
      "3\n",
      "4\n",
      "5\n",
      "6\n",
      "7\n",
      "8\n",
      "9\n",
      "10\n",
      "2\n",
      "3\n",
      "4\n",
      "5\n",
      "6\n",
      "7\n",
      "8\n",
      "9\n",
      "10\n",
      "2\n",
      "3\n",
      "4\n",
      "5\n",
      "6\n",
      "7\n",
      "8\n",
      "9\n",
      "10\n",
      "2\n",
      "3\n",
      "4\n",
      "5\n",
      "6\n",
      "7\n",
      "8\n",
      "9\n",
      "10\n",
      "2\n",
      "3\n",
      "4\n",
      "5\n",
      "6\n",
      "7\n",
      "8\n",
      "9\n",
      "10\n"
     ]
    }
   ],
   "source": [
    "for x in $(seq -f'order%g.csv' 1990 2017) \n",
    "do\n",
    "    tail +2 $x\n",
    "done"
   ]
  },
  {
   "cell_type": "code",
   "execution_count": 31,
   "metadata": {},
   "outputs": [
    {
     "name": "stdout",
     "output_type": "stream",
     "text": [
      "1\n",
      "2\n",
      "3\n",
      "4\n",
      "5\n",
      "6\n",
      "7\n",
      "8\n",
      "9\n",
      "10\n"
     ]
    }
   ],
   "source": [
    "cat order1990.csv"
   ]
  },
  {
   "cell_type": "code",
   "execution_count": 40,
   "metadata": {
    "collapsed": true
   },
   "outputs": [],
   "source": [
    "\n",
    "echo \"# Numero de filas por archivo\" > report.md\n",
    "for x in order*\n",
    "do\n",
    "    echo $(wc -l $x) >> report.md\n",
    "    echo >> report.md\n",
    "done \n",
    "pandoc report.md -o report.pdf\n",
    "\n"
   ]
  },
  {
   "cell_type": "code",
   "execution_count": 37,
   "metadata": {},
   "outputs": [
    {
     "name": "stdout",
     "output_type": "stream",
     "text": [
      "# Numero de filas por archivo\n",
      "order1990.csv 10 order1990.csv\n",
      "order1991.csv 10 order1991.csv\n",
      "order1992.csv 10 order1992.csv\n",
      "order1993.csv 10 order1993.csv\n",
      "order1994.csv 10 order1994.csv\n",
      "order1995.csv 10 order1995.csv\n",
      "order1996.csv 10 order1996.csv\n",
      "order1997.csv 10 order1997.csv\n",
      "order1998.csv 10 order1998.csv\n",
      "order1999.csv 10 order1999.csv\n",
      "order2000.csv 10 order2000.csv\n",
      "order2001.csv 10 order2001.csv\n",
      "order2002.csv 10 order2002.csv\n",
      "order2003.csv 10 order2003.csv\n",
      "order2004.csv 10 order2004.csv\n",
      "order2005.csv 10 order2005.csv\n",
      "order2006.csv 10 order2006.csv\n",
      "order2007.csv 10 order2007.csv\n",
      "order2008.csv 10 order2008.csv\n",
      "order2009.csv 10 order2009.csv\n",
      "order2010.csv 10 order2010.csv\n",
      "order2011.csv 10 order2011.csv\n",
      "order2012.csv 10 order2012.csv\n",
      "order2013.csv 10 order2013.csv\n",
      "order2014.csv 10 order2014.csv\n",
      "order2015.csv 10 order2015.csv\n",
      "order2016.csv 10 order2016.csv\n",
      "order2017.csv 10 order2017.csv\n"
     ]
    }
   ],
   "source": [
    "cat report.txt\n"
   ]
  },
  {
   "cell_type": "code",
   "execution_count": null,
   "metadata": {
    "collapsed": true
   },
   "outputs": [],
   "source": []
  }
 ],
 "metadata": {
  "kernelspec": {
   "display_name": "Bash",
   "language": "bash",
   "name": "bash"
  },
  "language_info": {
   "codemirror_mode": "shell",
   "file_extension": ".sh",
   "mimetype": "text/x-sh",
   "name": "bash"
  }
 },
 "nbformat": 4,
 "nbformat_minor": 2
}
