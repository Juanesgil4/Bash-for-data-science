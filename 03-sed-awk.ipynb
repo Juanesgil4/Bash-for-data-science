{
 "cells": [
  {
   "cell_type": "markdown",
   "metadata": {},
   "source": [
    "# Transformación de Datos usando Bash -- 3 -- Edición de archivos con Sed y Awk\n",
    "Notas de clase sobre la transformacion de datos usando la línea de comandos en sistemas Linux"
   ]
  },
  {
   "cell_type": "markdown",
   "metadata": {},
   "source": [
    "**Juan David Velásquez Henao**   \n",
    "jdvelasq@unal.edu.co  \n",
    "Universidad Nacional de Colombia, Sede Medellín  \n",
    "Facultad de Minas  \n",
    "Medellín, Colombia  \n",
    "\n",
    "[Licencia](https://github.com/jdvelasq/transformacion-datos-bash/blob/master/LICENCIA.txt)  \n",
    "[Readme](https://github.com/jdvelasq/transformacion-datos-bash/blob/master/readme.md)"
   ]
  },
  {
   "cell_type": "markdown",
   "metadata": {},
   "source": [
    "**Software utilizado**.\n",
    "\n",
    "> Este es un documento interactivo escrito como un notebook de [Jupyter](http://jupyter.org), en el cual se presenta un tutorial sobre la transformación de datos usando Bash en el contexto de la ciencia de los datos. Los notebooks de Jupyter permiten incoporar simultáneamente código, texto, gráficos y ecuaciones. El código presentado en este notebook puede ejecutarse en los sistemas operativos Linux y OS X.\n",
    "\n",
    "> Haga click [aquí](https://github.com/jdvelasq/data-science-docs) para obtener instrucciones detalladas sobre como instalar Jupyter en Windows y Mac OS X.\n",
    "\n",
    "> Haga clic [aquí]() para ver la última versión de este documento en nbviewer.\n",
    "\n",
    "> Descargue la última versión de este documento a su disco duro; luego, carguelo y ejecutelo en línea en [Try Jupyter!](https://try.jupyter.org)"
   ]
  },
  {
   "cell_type": "markdown",
   "metadata": {},
   "source": [
    "#### Contenido"
   ]
  },
  {
   "cell_type": "markdown",
   "metadata": {},
   "source": [
    ">   * [Introducción](#Introducción)\n",
    ">   * [Transformación y visualización](#Transformación-y-visualización)"
   ]
  },
  {
   "cell_type": "markdown",
   "metadata": {},
   "source": [
    "**Bibliografía**.\n",
    "\n",
    "> [1] D. Cross. Data Munging with Perl. Maning Publications Co. 2001\n",
    "\n",
    "> [2] S. Redmond. Mastering QlikView. Packs Publishing, 2014.\n",
    "\n",
    "> [3] T. Meyr. Apple® Automator with AppleScript® Bible. Wiley Publishing, Inc., Indianapolis, Indiana, 2010.\n",
    "\n",
    "> [4] C. Albing, JP Vossen and C. Newham. Bash cookbook. O'Reilly, Media Inc. 2007. \n",
    "\n",
    "> [5] E. S. Raymond, The Art of Unix Programming. Addison-Wesley, 2004.\n",
    "\n",
    "> [6] K. McElhearn. The Mac OS X Command Line: Unix under the hood. Ibex, 2005.\n",
    "\n",
    "> [7] R. K. Michael. Mastering Unix Shell Scripting. Wiley, 2003."
   ]
  },
  {
   "cell_type": "markdown",
   "metadata": {},
   "source": [
    "**Recursos adicionales de aprendizaje**\n",
    "\n",
    "> [The Command Line Crash Course](http://cli.learncodethehardway.org/book/) \n",
    "\n",
    "> [The Linux Command Line](http://linuxcommand.org/tlcl.php) By William Shotts\n",
    "\n",
    "> [Learn Enough Command Line to Be Dangerous](https://www.learnenough.com/command-line-tutorial#sec-grepping) by Michael Hart\n",
    "\n",
    "> [Data Science at the Command Line](http://datascienceatthecommandline.com) by Jeroen Janssens\n",
    "\n",
    "> [The Mac OS X Command Line: Unix Under the Hood](http://www.wiley.com/WileyCDA/WileyTitle/productCd-0782143547.html) by Kirk McElhearn"
   ]
  },
  {
   "cell_type": "markdown",
   "metadata": {},
   "source": [
    "# Introducción"
   ]
  },
  {
   "cell_type": "markdown",
   "metadata": {},
   "source": [
    "[Contenido](#Contenido)"
   ]
  },
  {
   "cell_type": "markdown",
   "metadata": {},
   "source": [
    "## `sed`"
   ]
  },
  {
   "cell_type": "markdown",
   "metadata": {},
   "source": [
    "`sed` es un editor de flujos que puede ser usado para extraer, adicionar o reemplazar textos en un archivo. En ciencia de los datos resulta particularmente interesante para realizar impresión, sustitución y borrado de texto. Cada comando es representado por una letra y el carácter `/` es usado como un delimitador.\n"
   ]
  },
  {
   "cell_type": "markdown",
   "metadata": {},
   "source": [
    "Se puede utilizar el comando 'sed' o 'sed' [Opciones]. Dichas opciones consisten en una secuencia de '-caracter' que condicionan una funcionalidad en particular. A continuación se muestran las que se encuentran disponibles en la documentación del lenguaje:\n"
   ]
  },
  {
   "cell_type": "code",
   "execution_count": 3,
   "metadata": {},
   "outputs": [
    {
     "name": "stdout",
     "output_type": "stream",
     "text": [
      "Uso: sed [OPCIÓN]... {guión-sólo-si-no-hay-otro-guión} [fichero-entrada]...\n",
      "\n",
      "  -n, --quiet, --silent\n",
      "                 suprime la muestra automática del espacio de patrones\n",
      "  -e guión, --expression=guión\n",
      "                 agrega el guión a la lista de órdenes para ejecutar\n",
      "  -f fichero-guión, --file=fichero-guión\n",
      "                 agrega el contenido del fichero guión a la lista de órdenes\n",
      "                 para ejecutar\n",
      "  --follow-symlinks\n",
      "                 sigue los enlaces simbólicos al procesar en el lugar\n",
      "  -i[SUFFIX], --in-place[=SUFFIX]\n",
      "                 edit files in place (makes backup if SUFFIX supplied)\n",
      "  -b, --binary\n",
      "                 abre ficheros en modo binario (los RC+FLs no se procesan\n",
      "                 especialmente)\n",
      "  -l N, --line-length=N\n",
      "                 especifica la longitud de corte de línea deseado para\n",
      "                 la orden `l'\n",
      "  --posix\n",
      "                 desactiva todas las extensiones de GNU.\n",
      "  -E, -r, --regexp-extended\n",
      "                 use extended regular expressions in the script\n",
      "                 (for portability use POSIX -E).\n",
      "  -s, --separate\n",
      "                 consider files as separate rather than as a single,\n",
      "                 continuous long stream.\n",
      "      --sandbox\n",
      "                 operate in sandbox mode.\n",
      "  -u, --unbuffered\n",
      "                 carga cantidades mínimas de datos de los ficheros de entrada\n",
      "                 y vacía los almacenamientos temporales de salida con más\n",
      "                 frecuencia\n",
      "  -z, --null-data\n",
      "                 separate lines by NUL characters\n",
      "      --help     muestra esta ayuda y termina\n",
      "      --version  muestra la información de la versión y termina\n",
      "\n",
      "Si no se proporciona una opción -e, --expression, -f, ó --file option,\n",
      "entonces se toma el primer argumento que no sea opción como el guión sed\n",
      "a interpretar.  Todos los argumentos restantes son nombres de ficheros\n",
      "de entrada; si no se especifican ficheros de entrada, entonces se lee\n",
      "la entrada estándard.\n",
      "\n",
      "Página web de sed de GNU: <http://www.gnu.org/software/sed/>.\n",
      "Ayuda general para usar software GNU: <http://www.gnu.org/gethelp/>.\n"
     ]
    },
    {
     "ename": "",
     "evalue": "1",
     "output_type": "error",
     "traceback": []
    }
   ],
   "source": [
    "`sed` "
   ]
  },
  {
   "cell_type": "markdown",
   "metadata": {},
   "source": [
    "## `awk`"
   ]
  },
  {
   "cell_type": "markdown",
   "metadata": {},
   "source": [
    "`awk` es un lenguaje de programación para Unix creado para la manipulación de texto que contiene varios campos de datos en una misma linea. Su uso básico es: \n",
    "\n",
    "awk [condición] {comandos}\n"
   ]
  },
  {
   "cell_type": "code",
   "execution_count": 2,
   "metadata": {},
   "outputs": [
    {
     "name": "stdout",
     "output_type": "stream",
     "text": [
      "Usage: awk [POSIX or GNU style options] -f progfile [--] file ...\n",
      "Usage: awk [POSIX or GNU style options] [--] 'program' file ...\n",
      "POSIX options:\t\tGNU long options: (standard)\n",
      "\t-f progfile\t\t--file=progfile\n",
      "\t-F fs\t\t\t--field-separator=fs\n",
      "\t-v var=val\t\t--assign=var=val\n",
      "Short options:\t\tGNU long options: (extensions)\n",
      "\t-b\t\t\t--characters-as-bytes\n",
      "\t-c\t\t\t--traditional\n",
      "\t-C\t\t\t--copyright\n",
      "\t-d[file]\t\t--dump-variables[=file]\n",
      "\t-D[file]\t\t--debug[=file]\n",
      "\t-e 'program-text'\t--source='program-text'\n",
      "\t-E file\t\t\t--exec=file\n",
      "\t-g\t\t\t--gen-pot\n",
      "\t-h\t\t\t--help\n",
      "\t-i includefile\t\t--include=includefile\n",
      "\t-l library\t\t--load=library\n",
      "\t-L[fatal|invalid]\t--lint[=fatal|invalid]\n",
      "\t-M\t\t\t--bignum\n",
      "\t-N\t\t\t--use-lc-numeric\n",
      "\t-n\t\t\t--non-decimal-data\n",
      "\t-o[file]\t\t--pretty-print[=file]\n",
      "\t-O\t\t\t--optimize\n",
      "\t-p[file]\t\t--profile[=file]\n",
      "\t-P\t\t\t--posix\n",
      "\t-r\t\t\t--re-interval\n",
      "\t-S\t\t\t--sandbox\n",
      "\t-t\t\t\t--lint-old\n",
      "\t-V\t\t\t--version\n",
      "\n",
      "To report bugs, see node `Bugs' in `gawk.info', which is\n",
      "section `Reporting Problems and Bugs' in the printed version.\n",
      "\n",
      "gawk is a pattern scanning and processing language.\n",
      "By default it reads standard input and writes standard output.\n",
      "\n",
      "Examples:\n",
      "\tgawk '{ sum += $1 }; END { print sum }' file\n",
      "\tgawk -F: '{ print $1 }' /etc/passwd\n"
     ]
    },
    {
     "ename": "",
     "evalue": "1",
     "output_type": "error",
     "traceback": []
    }
   ],
   "source": [
    "'awk'"
   ]
  },
  {
   "cell_type": "markdown",
   "metadata": {},
   "source": [
    "**Algunos comandos importantes**:\n",
    "\n",
    "* *$0*     -> Todos los campos\n",
    "* *FS*     -> Separador de campos (TAB por defecto)\n",
    "* *NF*     -> Número de campos en la linea actual\n",
    "* *NR*     -> Número de lineas en el archivo a procesar\n",
    "* *Length*     -> Longitud de la linea a procesar\n",
    "* *&&*     -> Operación lógica para la intersección\n",
    "* *||*     -> Operación lógica para la unión"
   ]
  },
  {
   "cell_type": "markdown",
   "metadata": {},
   "source": [
    "---"
   ]
  },
  {
   "cell_type": "markdown",
   "metadata": {},
   "source": [
    "# Transformación y visualización"
   ]
  },
  {
   "cell_type": "markdown",
   "metadata": {},
   "source": [
    "[Contenido](#Contenido)"
   ]
  },
  {
   "cell_type": "markdown",
   "metadata": {},
   "source": [
    "En este libro se usa `sed` y `awk` para realizar búsquedas (como se hace con `grep`) y editar los archivos.\n",
    "\n",
    "Primero se imprimen los primeros 20 números a un archivo."
   ]
  },
  {
   "cell_type": "code",
   "execution_count": 1,
   "metadata": {
    "collapsed": true
   },
   "outputs": [],
   "source": [
    "seq 20 > out.1"
   ]
  },
  {
   "cell_type": "markdown",
   "metadata": {},
   "source": [
    "Para imprimir todas las líneas que tienen un '1' se usaría: "
   ]
  },
  {
   "cell_type": "code",
   "execution_count": 9,
   "metadata": {
    "scrolled": false
   },
   "outputs": [
    {
     "name": "stdout",
     "output_type": "stream",
     "text": [
      "1\n",
      "10\n",
      "11\n",
      "12\n",
      "13\n",
      "14\n",
      "15\n",
      "16\n",
      "17\n",
      "18\n",
      "19\n"
     ]
    }
   ],
   "source": [
    "sed -n '/1/p'  out.1"
   ]
  },
  {
   "cell_type": "markdown",
   "metadata": {},
   "source": [
    "La opción `-n` indica que no debe imprimirse en pantalla cada línea leída del archivo `out.1`. La cadena `/1/` indica la expresión regular (en este caso que la línea contenga un `1`, los '/'  son delimitadores). La `p`  al final indica que se imprima la línea. "
   ]
  },
  {
   "cell_type": "code",
   "execution_count": 11,
   "metadata": {},
   "outputs": [
    {
     "name": "stdout",
     "output_type": "stream",
     "text": [
      "1\n",
      "10\n",
      "11\n",
      "12\n",
      "13\n",
      "14\n",
      "15\n",
      "16\n",
      "17\n",
      "18\n",
      "19\n"
     ]
    }
   ],
   "source": [
    "awk '/1/ {print}' out.1"
   ]
  },
  {
   "cell_type": "markdown",
   "metadata": {},
   "source": [
    "La cadena /1/ indica que la línea contenga un 1, los '/' son delimitadores. {print} al final indica que se imprima la linea."
   ]
  },
  {
   "cell_type": "markdown",
   "metadata": {},
   "source": [
    "Para imprimir todas las líneas que tienen un `1` al final."
   ]
  },
  {
   "cell_type": "code",
   "execution_count": 12,
   "metadata": {},
   "outputs": [
    {
     "name": "stdout",
     "output_type": "stream",
     "text": [
      "1\n",
      "11\n"
     ]
    }
   ],
   "source": [
    "sed -n '/1$/p'  out.1"
   ]
  },
  {
   "cell_type": "code",
   "execution_count": 13,
   "metadata": {},
   "outputs": [
    {
     "name": "stdout",
     "output_type": "stream",
     "text": [
      "1\n",
      "11\n"
     ]
    }
   ],
   "source": [
    "awk '/1$/ {print}' out.1"
   ]
  },
  {
   "cell_type": "markdown",
   "metadata": {},
   "source": [
    "El siguiente comando imprime la tercera línea:"
   ]
  },
  {
   "cell_type": "code",
   "execution_count": 14,
   "metadata": {},
   "outputs": [
    {
     "name": "stdout",
     "output_type": "stream",
     "text": [
      "3\n"
     ]
    }
   ],
   "source": [
    "sed -n '3p' out.1"
   ]
  },
  {
   "cell_type": "code",
   "execution_count": 3,
   "metadata": {
    "scrolled": true
   },
   "outputs": [
    {
     "name": "stdout",
     "output_type": "stream",
     "text": [
      "3\n"
     ]
    }
   ],
   "source": [
    "awk 'NR == 3 {print}' out.1"
   ]
  },
  {
   "cell_type": "markdown",
   "metadata": {},
   "source": [
    "El siguiente comando imprime de la linea 3 a la linea 6."
   ]
  },
  {
   "cell_type": "code",
   "execution_count": 16,
   "metadata": {},
   "outputs": [
    {
     "name": "stdout",
     "output_type": "stream",
     "text": [
      "3\n",
      "4\n",
      "5\n",
      "6\n"
     ]
    }
   ],
   "source": [
    "sed -n '3,6 p' out.1 "
   ]
  },
  {
   "cell_type": "markdown",
   "metadata": {},
   "source": [
    "awk permite, a través de los operadores lógicos, agrupar registros y operar sobre ellos.\n"
   ]
  },
  {
   "cell_type": "code",
   "execution_count": 4,
   "metadata": {},
   "outputs": [
    {
     "name": "stdout",
     "output_type": "stream",
     "text": [
      "3\n",
      "4\n",
      "5\n",
      "6\n"
     ]
    }
   ],
   "source": [
    "awk '(NR >= 3) && (NR <= 6) {print $0}' out.1"
   ]
  },
  {
   "cell_type": "markdown",
   "metadata": {},
   "source": [
    "El comando `d` con `sed` indica borrado.\n",
    "\n",
    "A continuación se requiere imprimir todos los registros excepto los contenidos entre la linea 3 y la linea 6:\n"
   ]
  },
  {
   "cell_type": "code",
   "execution_count": 5,
   "metadata": {},
   "outputs": [
    {
     "name": "stdout",
     "output_type": "stream",
     "text": [
      "1\n",
      "2\n",
      "7\n",
      "8\n",
      "9\n",
      "10\n",
      "11\n",
      "12\n",
      "13\n",
      "14\n",
      "15\n",
      "16\n",
      "17\n",
      "18\n",
      "19\n",
      "20\n"
     ]
    }
   ],
   "source": [
    "sed '{3,6d}' out.1 "
   ]
  },
  {
   "cell_type": "code",
   "execution_count": 30,
   "metadata": {},
   "outputs": [
    {
     "name": "stdout",
     "output_type": "stream",
     "text": [
      "1\n",
      "2\n",
      "7\n",
      "8\n",
      "9\n",
      "10\n",
      "11\n",
      "12\n",
      "13\n",
      "14\n",
      "15\n",
      "16\n",
      "17\n",
      "18\n",
      "19\n",
      "20\n"
     ]
    }
   ],
   "source": [
    "awk '!((NR >= 3) && (NR <= 6)) {print $0}' out.1"
   ]
  },
  {
   "cell_type": "code",
   "execution_count": 7,
   "metadata": {},
   "outputs": [
    {
     "name": "stdout",
     "output_type": "stream",
     "text": [
      "1\n",
      "2\n",
      "7\n",
      "8\n",
      "9\n",
      "10\n",
      "11\n",
      "12\n",
      "13\n",
      "14\n",
      "15\n",
      "16\n",
      "17\n",
      "18\n",
      "19\n",
      "20\n"
     ]
    }
   ],
   "source": [
    "awk '(NR > 6) || (NR < 3) {print $0}' out.1"
   ]
  },
  {
   "cell_type": "markdown",
   "metadata": {},
   "source": [
    "De la línea 15 al final:"
   ]
  },
  {
   "cell_type": "code",
   "execution_count": 18,
   "metadata": {},
   "outputs": [
    {
     "name": "stdout",
     "output_type": "stream",
     "text": [
      "15\n",
      "16\n",
      "17\n",
      "18\n",
      "19\n",
      "20\n"
     ]
    }
   ],
   "source": [
    "sed -n '15,$ p' out.1"
   ]
  },
  {
   "cell_type": "code",
   "execution_count": 31,
   "metadata": {},
   "outputs": [
    {
     "name": "stdout",
     "output_type": "stream",
     "text": [
      "15\n",
      "16\n",
      "17\n",
      "18\n",
      "19\n",
      "20\n"
     ]
    }
   ],
   "source": [
    "awk '(NR >= 15) && (NR <= NR) {print $0}' out.1"
   ]
  },
  {
   "cell_type": "markdown",
   "metadata": {},
   "source": [
    "El comando `c` con `sed` indica reemplazo.\n",
    "\n",
    "A continuación se requiere reemplazar todos los registros que inicien con 1 por el número 1000.\n"
   ]
  },
  {
   "cell_type": "code",
   "execution_count": 5,
   "metadata": {},
   "outputs": [
    {
     "name": "stdout",
     "output_type": "stream",
     "text": [
      "1000\n",
      "2\n",
      "3\n",
      "4\n",
      "5\n",
      "6\n",
      "7\n",
      "8\n",
      "9\n",
      "1000\n",
      "1000\n",
      "1000\n",
      "1000\n",
      "1000\n",
      "1000\n",
      "1000\n",
      "1000\n",
      "1000\n",
      "1000\n",
      "20\n"
     ]
    }
   ],
   "source": [
    "sed '/^1/ c 1000' out.1"
   ]
  },
  {
   "cell_type": "markdown",
   "metadata": {},
   "source": [
    "La opción `-e` con `sed`  indica exclusión y permite realizar comandos simultaneos; por ejemplo, imprimir todo excepto la posición 1 y 2."
   ]
  },
  {
   "cell_type": "code",
   "execution_count": 11,
   "metadata": {},
   "outputs": [
    {
     "name": "stdout",
     "output_type": "stream",
     "text": [
      "3\n",
      "4\n",
      "5\n",
      "6\n",
      "7\n",
      "8\n",
      "9\n",
      "10\n",
      "11\n",
      "12\n",
      "13\n",
      "14\n",
      "15\n",
      "16\n",
      "17\n",
      "18\n",
      "19\n",
      "20\n"
     ]
    }
   ],
   "source": [
    "sed -e 1d -e 2d out.1"
   ]
  },
  {
   "cell_type": "markdown",
   "metadata": {},
   "source": [
    "Combinada con la opción `-n` y el comando `p` al final, imprime solo los registros que cumplen con el patrón; por ejemplo, mostrar todos los registros que inicien con 1."
   ]
  },
  {
   "cell_type": "code",
   "execution_count": 35,
   "metadata": {},
   "outputs": [
    {
     "name": "stdout",
     "output_type": "stream",
     "text": [
      "1\n",
      "10\n",
      "11\n",
      "12\n",
      "13\n",
      "14\n",
      "15\n",
      "16\n",
      "17\n",
      "18\n",
      "19\n"
     ]
    }
   ],
   "source": [
    "sed -n '/^1/p' out.1"
   ]
  },
  {
   "cell_type": "markdown",
   "metadata": {},
   "source": [
    "---"
   ]
  },
  {
   "cell_type": "markdown",
   "metadata": {},
   "source": [
    "**Ejercicio.--** Para el siguiente archivo, elimine las líneas con datos faltantes. Estos se han identificado con la cadena `NA`."
   ]
  },
  {
   "cell_type": "code",
   "execution_count": 36,
   "metadata": {
    "collapsed": true
   },
   "outputs": [],
   "source": [
    "cat > out.1 <<EOF\n",
    "Date, Year, CustomerID, Value\n",
    "2013-01-12, 2013, 1, 100\n",
    "2014-05-12, 2014, NA, 100\n",
    "2013-02-25, 2013, 2, 200\n",
    "2013-04-04, 2013, 1, 100\n",
    "2013-06-21, 2013, 2, 200\n",
    "2014-05-12, 2014, 1, 100\n",
    "2014-05-12, 2014, NA, 200\n",
    "2013-02-28, 2013, 1, 100\n",
    "2013-08-02, 2013, NA, 100\n",
    "EOF"
   ]
  },
  {
   "cell_type": "markdown",
   "metadata": {},
   "source": [
    "---"
   ]
  },
  {
   "cell_type": "markdown",
   "metadata": {},
   "source": [
    "En el archivo:"
   ]
  },
  {
   "cell_type": "code",
   "execution_count": 2,
   "metadata": {
    "collapsed": true
   },
   "outputs": [],
   "source": [
    "cat > out.1 <<EOF\n",
    "FieldA, FieldD, FieldE, FieldG\n",
    "   2, X, 2X, 2XG\n",
    "   2, Y, 2Y, 2YG \n",
    "   3, Y, 3Y, 3YG\n",
    "   3, X, 3X, 3XG\n",
    "   4, Z, 4Z, 3XG\n",
    "EOF"
   ]
  },
  {
   "cell_type": "markdown",
   "metadata": {},
   "source": [
    "Se desean cambiar las `X` por `x`."
   ]
  },
  {
   "cell_type": "markdown",
   "metadata": {},
   "source": [
    "* `sed` permite realizar sustituciones mediante el comando `s`:"
   ]
  },
  {
   "cell_type": "code",
   "execution_count": 43,
   "metadata": {},
   "outputs": [
    {
     "name": "stdout",
     "output_type": "stream",
     "text": [
      "FieldA, FieldD, FieldE, FieldG\n",
      "   2, x, 2X, 2XG\n",
      "   2, Y, 2Y, 2YG \n",
      "   3, Y, 3Y, 3YG\n",
      "   3, x, 3X, 3XG\n",
      "   4, Z, 4Z, 3xG\n"
     ]
    }
   ],
   "source": [
    "sed 's/X/x/' out.1"
   ]
  },
  {
   "cell_type": "markdown",
   "metadata": {},
   "source": [
    "Note que solamente se sustituyeron las primeras ocurrencias de cada línea. Si se quieren cambiar todas las ocurrencias en cada línea se usa `g` para indicar sustitución global:"
   ]
  },
  {
   "cell_type": "code",
   "execution_count": 45,
   "metadata": {
    "scrolled": true
   },
   "outputs": [
    {
     "name": "stdout",
     "output_type": "stream",
     "text": [
      "FieldA, FieldD, FieldE, FieldG\n",
      "   2, x, 2x, 2xG\n",
      "   2, Y, 2Y, 2YG \n",
      "   3, Y, 3Y, 3YG\n",
      "   3, x, 3x, 3xG\n",
      "   4, Z, 4Z, 3xG\n"
     ]
    }
   ],
   "source": [
    "sed 's/X/x/g' out.1"
   ]
  },
  {
   "cell_type": "markdown",
   "metadata": {},
   "source": [
    "El comando `y` es útil para transformar el registro en el orden en que se indice en la expresión regular; por ejemplo, se requiere cambiar sistemáticamente las X por x y las Y por y."
   ]
  },
  {
   "cell_type": "code",
   "execution_count": 23,
   "metadata": {},
   "outputs": [
    {
     "name": "stdout",
     "output_type": "stream",
     "text": [
      "FieldA, FieldD, FieldE, FieldG\n",
      "   2, x, 2x, 2xG\n",
      "   2, y, 2y, 2yG \n",
      "   3, y, 3y, 3yG\n",
      "   3, x, 3x, 3xG\n",
      "   4, Z, 4Z, 3xG\n"
     ]
    }
   ],
   "source": [
    "sed 'y/XY/xy/' out.1 "
   ]
  },
  {
   "cell_type": "markdown",
   "metadata": {},
   "source": [
    "Se pueden realizar sustituciones de acuerdo con las veces que se encuentre el patrón en la linea; por ejemplo, se requiere sustituir las X por el simbolo # en el archivo pero solo para la segunda columna. "
   ]
  },
  {
   "cell_type": "code",
   "execution_count": 47,
   "metadata": {},
   "outputs": [
    {
     "name": "stdout",
     "output_type": "stream",
     "text": [
      "FieldA, FieldD, FieldE, FieldG\n",
      "   2, X, 2#, 2XG\n",
      "   2, Y, 2Y, 2YG \n",
      "   3, Y, 3Y, 3YG\n",
      "   3, X, 3#, 3XG\n",
      "   4, Z, 4Z, 3XG\n"
     ]
    }
   ],
   "source": [
    "sed 's/X/#/2' out.1"
   ]
  },
  {
   "cell_type": "markdown",
   "metadata": {},
   "source": [
    "El número `2` indica que se reemplace cuando encuentre el patrón por segunda vez."
   ]
  },
  {
   "cell_type": "code",
   "execution_count": 50,
   "metadata": {},
   "outputs": [
    {
     "name": "stdout",
     "output_type": "stream",
     "text": [
      "FieldA, FieldD, FieldE, FieldG\n",
      "   2, X, 2xx, 2xxG\n",
      "   2, Y, 2Y, 2YG \n",
      "   3, Y, 3Y, 3YG\n",
      "   3, X, 3xx, 3xxG\n",
      "   4, Z, 4Z, 3XG\n"
     ]
    }
   ],
   "source": [
    "sed 's/X/xx/2g' out.1"
   ]
  },
  {
   "cell_type": "markdown",
   "metadata": {},
   "source": [
    "El comando `2g` indica que se reemplace el patrón a partir de que se encuentre por segunda vez y en adelante."
   ]
  },
  {
   "cell_type": "markdown",
   "metadata": {},
   "source": [
    "El simbolo `&` indica el patrón de busqueda en caso de que se requiera dar una característica adicional; por ejemplo, se requiere tener las letras X entre llaves para la linea 5."
   ]
  },
  {
   "cell_type": "code",
   "execution_count": 19,
   "metadata": {},
   "outputs": [
    {
     "name": "stdout",
     "output_type": "stream",
     "text": [
      "FieldA, FieldD, FieldE, FieldG\n",
      "   2, X, 2X, 2XG\n",
      "   2, Y, 2Y, 2YG \n",
      "   3, Y, 3Y, 3YG\n",
      "   3, {X}, 3{X}, 3{X}G\n",
      "   4, Z, 4Z, 3XG\n"
     ]
    }
   ],
   "source": [
    "sed '5 s/X/{&}/g' out.1"
   ]
  },
  {
   "cell_type": "markdown",
   "metadata": {},
   "source": [
    "* `awk` permite realizar sustituciones mediante el comando `gsub()` compuesto por una expresión regular a reemplazar y el elemento que reemplazará dicha expresión regular. La g indica que es global, en caso de que se requiera una sustitución local, se debe utilizar la función `sub()`.\n",
    "\n"
   ]
  },
  {
   "cell_type": "markdown",
   "metadata": {},
   "source": [
    "Se desean cambiar las `X` por `x`. Note que se sustituyen todas las ocurrencias del archivo"
   ]
  },
  {
   "cell_type": "code",
   "execution_count": 43,
   "metadata": {},
   "outputs": [
    {
     "name": "stdout",
     "output_type": "stream",
     "text": [
      "FieldA, FieldD, FieldE\n",
      "   2, x, 2x\n",
      "   2, Y, 2Y\n",
      "   3, Y, 3Y\n",
      "   3, x, 3x\n",
      "   4, Z, 4Z \n"
     ]
    }
   ],
   "source": [
    "awk '{gsub(/X/, \"x\"); print}' out.1"
   ]
  },
  {
   "cell_type": "markdown",
   "metadata": {},
   "source": [
    "Se puede utiliza el comando `gsub` para varias sustituciones separandolo por **`;`** :"
   ]
  },
  {
   "cell_type": "code",
   "execution_count": 44,
   "metadata": {
    "scrolled": true
   },
   "outputs": [
    {
     "name": "stdout",
     "output_type": "stream",
     "text": [
      "FieldA, FieldD, FieldE\n",
      "   2, x, 2x\n",
      "   2, y, 2y\n",
      "   3, y, 3y\n",
      "   3, x, 3x\n",
      "   4, Z, 4Z \n"
     ]
    }
   ],
   "source": [
    "awk '{gsub(/X/, \"x\"); gsub(/Y/, \"y\"); print}' out.1"
   ]
  },
  {
   "cell_type": "markdown",
   "metadata": {},
   "source": [
    "---"
   ]
  },
  {
   "cell_type": "markdown",
   "metadata": {},
   "source": [
    "Sea el siguiente archivo:"
   ]
  },
  {
   "cell_type": "code",
   "execution_count": 1,
   "metadata": {
    "collapsed": true
   },
   "outputs": [],
   "source": [
    "cat > out.1 <<EOF\n",
    "1980-JAN-1+1:0:1.134\n",
    "1980-JAN-5+1:0:1.12\n",
    "1980-JAN-13+10:12:42.33\n",
    "EOF"
   ]
  },
  {
   "cell_type": "markdown",
   "metadata": {},
   "source": [
    "Se desea formatear la fecha y la hora, es decir, la primera línea:\n",
    "\n",
    "```\n",
    "1980-JAN-1+1:0:1.134\n",
    "```\n",
    "\n",
    "debe cambiarse por:\n",
    "\n",
    "```\n",
    "1980-JAN-01 01:00:01\n",
    "```\n"
   ]
  },
  {
   "cell_type": "markdown",
   "metadata": {},
   "source": [
    "* `sed` permite realizar sustituciones mediante el comando `s`:"
   ]
  },
  {
   "cell_type": "markdown",
   "metadata": {},
   "source": [
    "El primer paso consiste en agregar el cero a los números de día con un solo dígito."
   ]
  },
  {
   "cell_type": "code",
   "execution_count": 47,
   "metadata": {},
   "outputs": [
    {
     "name": "stdout",
     "output_type": "stream",
     "text": [
      "1980-JAN-01+1:0:1.134\n",
      "1980-JAN-05+1:0:1.12\n",
      "1980-JAN-13+10:12:42.33\n"
     ]
    }
   ],
   "source": [
    "sed 's/-\\([0-9]\\)+/-0\\1+/' out.1 > out.2\n",
    "cat out.2"
   ]
  },
  {
   "cell_type": "markdown",
   "metadata": {},
   "source": [
    "La explicación del comando anterior es la siguiente. El patrón de entrada está conformado por los siguientes elementos:\n",
    "* El caracter '-'.\n",
    "* Un dígito entre 0 y 9 (patrón `[0-9]`). Las secuencias `\\(` y `\\)` especifican que el dígito reconocido debe recordarse. Pueden existir varias cadenas a recordar; la primera cadena es `\\1`, la segunda cadena es `\\2` y así sucesivamente.\n",
    "* El caracter `+`.\n",
    "\n",
    "El patrón de salida indica que:\n",
    "* Se imprime el caracter `-`.\n",
    "* Luego el caracter `0`.\n",
    "* A continuación el dígito reconocido `\\1`.\n"
   ]
  },
  {
   "cell_type": "markdown",
   "metadata": {},
   "source": [
    "Se reemplaza el `+` por un espacio en blanco."
   ]
  },
  {
   "cell_type": "code",
   "execution_count": 51,
   "metadata": {},
   "outputs": [
    {
     "name": "stdout",
     "output_type": "stream",
     "text": [
      "1980-JAN-01 1:0:1.134\n",
      "1980-JAN-05 1:0:1.12\n",
      "1980-JAN-13 10:12:42.33\n"
     ]
    }
   ],
   "source": [
    "sed 's/+/ /' out.2 > out.3\n",
    "cat out.3"
   ]
  },
  {
   "cell_type": "markdown",
   "metadata": {},
   "source": [
    "Se agrega el `0` a las horas."
   ]
  },
  {
   "cell_type": "code",
   "execution_count": 52,
   "metadata": {},
   "outputs": [
    {
     "name": "stdout",
     "output_type": "stream",
     "text": [
      "1980-JAN-01 01:0:1.134\n",
      "1980-JAN-05 01:0:1.12\n",
      "1980-JAN-13 10:12:42.33\n"
     ]
    }
   ],
   "source": [
    "sed 's/ \\([0-9]\\):/ 0\\1:/' out.3 > out.4\n",
    "cat out.4"
   ]
  },
  {
   "cell_type": "markdown",
   "metadata": {},
   "source": [
    "Se agrega el `0` a los minutos."
   ]
  },
  {
   "cell_type": "code",
   "execution_count": 53,
   "metadata": {},
   "outputs": [
    {
     "name": "stdout",
     "output_type": "stream",
     "text": [
      "1980-JAN-01 01:00:1.134\n",
      "1980-JAN-05 01:00:1.12\n",
      "1980-JAN-13 10:12:42.33\n"
     ]
    }
   ],
   "source": [
    "sed 's/:\\([0-9]\\):/:0\\1:/' out.4 > out.5\n",
    "cat out.5"
   ]
  },
  {
   "cell_type": "markdown",
   "metadata": {},
   "source": [
    "Se agrega el `0` a los segundos."
   ]
  },
  {
   "cell_type": "code",
   "execution_count": 54,
   "metadata": {},
   "outputs": [
    {
     "name": "stdout",
     "output_type": "stream",
     "text": [
      "1980-JAN-01 01:00:01.134\n",
      "1980-JAN-05 01:00:01.12\n",
      "1980-JAN-13 10:12:42.33\n"
     ]
    }
   ],
   "source": [
    "sed 's/:\\([0-9]\\)\\./:0\\1./' out.5 > out.6\n",
    "cat out.6"
   ]
  },
  {
   "cell_type": "markdown",
   "metadata": {},
   "source": [
    "Se elimina la parte decimal de los segundos"
   ]
  },
  {
   "cell_type": "code",
   "execution_count": 55,
   "metadata": {},
   "outputs": [
    {
     "name": "stdout",
     "output_type": "stream",
     "text": [
      "1980-JAN-01 01:00:01\n",
      "1980-JAN-05 01:00:01\n",
      "1980-JAN-13 10:12:42\n"
     ]
    }
   ],
   "source": [
    "sed 's/\\.[0-9][0-9]*//' out.6 > out.7\n",
    "cat out.7"
   ]
  },
  {
   "cell_type": "markdown",
   "metadata": {},
   "source": [
    "La notación `\\.[0-9][0-9]*` indica que el patrón es un punto (`\\.`) seguido de un dígito (`[0-9]`), seguido de cero, uno o más dígitos (`[0-9]*`)."
   ]
  },
  {
   "cell_type": "markdown",
   "metadata": {},
   "source": [
    "* `awk` permite realizar sustituciones mediante el comando `gsub` y `sub`:"
   ]
  },
  {
   "cell_type": "markdown",
   "metadata": {},
   "source": [
    "Se reemplaza el `+` por un espacio en blanco y el 0 a los segundos"
   ]
  },
  {
   "cell_type": "code",
   "execution_count": 2,
   "metadata": {},
   "outputs": [
    {
     "name": "stdout",
     "output_type": "stream",
     "text": [
      "1980-JAN-1 01:00:1.134\n",
      "1980-JAN-5 01:00:1.12\n",
      "1980-JAN-13 10:12:42.33\n"
     ]
    }
   ],
   "source": [
    "awk '{gsub(/+/, \" \"); gsub(/:0:/, \":00:\"); gsub(/1:/, \"01:\"); print}' out.1 > out.2\n",
    "cat out.2"
   ]
  },
  {
   "cell_type": "code",
   "execution_count": 3,
   "metadata": {},
   "outputs": [
    {
     "name": "stdout",
     "output_type": "stream",
     "text": [
      "1980-JAN-01 01:00:1.134\n",
      "1980-JAN-05 01:00:1.12\n",
      "1980-JAN-013 10:12:42.33\n"
     ]
    }
   ],
   "source": [
    "awk '{gsub(/-1/, \"-01\");gsub(/-5/, \"-05\"); print}' out.2 > out.3\n",
    "cat out.3"
   ]
  },
  {
   "cell_type": "code",
   "execution_count": 10,
   "metadata": {},
   "outputs": [
    {
     "name": "stdout",
     "output_type": "stream",
     "text": [
      "1980-JAN-01 01:00:01\n",
      "1980-JAN-05 01:00:01\n",
      "1980-JAN-013 10:012:42\n"
     ]
    }
   ],
   "source": [
    "#MALO\n",
    "awk '{gsub(/\\.[0-9]*/, \"\");gsub(/:1/, \":01\"); print}' out.3 > out.4\n",
    "cat out.4"
   ]
  },
  {
   "cell_type": "code",
   "execution_count": 12,
   "metadata": {},
   "outputs": [
    {
     "name": "stdout",
     "output_type": "stream",
     "text": [
      "1980-JAN-01 01:00:01\n",
      "1980-JAN-05 01:00:01\n",
      "1980-JAN-13 10:12:42\n"
     ]
    }
   ],
   "source": [
    "#MALO\n",
    "awk '{gsub(/-013/, \"-13\"); gsub(/:012/, \":12\");print}' out.4"
   ]
  },
  {
   "cell_type": "markdown",
   "metadata": {},
   "source": [
    "---"
   ]
  },
  {
   "cell_type": "markdown",
   "metadata": {},
   "source": [
    "Sea el siguiente archivo:"
   ]
  },
  {
   "cell_type": "code",
   "execution_count": 13,
   "metadata": {
    "collapsed": true
   },
   "outputs": [],
   "source": [
    "cat > out.1 <<EOF\n",
    "Date, Year, CustomerID, Value\n",
    "2013-01-12, 2013, 1, 100\n",
    "2014-05-12, 2014, 1, 100\n",
    "2013-02-25, 2013, 2, 200\n",
    "2013-04-04, 2013, 1, 100\n",
    "2013-06-21, 2013, 2, 200\n",
    "2014-05-12, 2014, 12, 100\n",
    "2014-05-12, 2014, 2, 200\n",
    "2013-02-28, 2013, 11, 100\n",
    "2013-08-02, 2013, 1, 100\n",
    "EOF"
   ]
  },
  {
   "cell_type": "markdown",
   "metadata": {},
   "source": [
    "Se desea agregar un nuevo campo llamado `Year-CoustomerID` que contiene una clave compuesta conformada por la concatenación de estos dos campos; por ejemplo, el valor para el primer registro sería `2013-1`. El siguiente comando hace el cambio del reglón dos en adelante:"
   ]
  },
  {
   "cell_type": "code",
   "execution_count": 19,
   "metadata": {},
   "outputs": [
    {
     "name": "stdout",
     "output_type": "stream",
     "text": [
      "Date, Year, CustomerID, Value\n",
      "2013-01-12, 2013, 1, 2013-1, 100\n",
      "2014-05-12, 2014, 1, 2014-1, 100\n",
      "2013-02-25, 2013, 2, 2013-2, 200\n",
      "2013-04-04, 2013, 1, 2013-1, 100\n",
      "2013-06-21, 2013, 2, 2013-2, 200\n",
      "2014-05-12, 2014, 12, 2014-12, 100\n",
      "2014-05-12, 2014, 2, 2014-2, 200\n",
      "2013-02-28, 2013, 11, 2013-11, 100\n",
      "2013-08-02, 2013, 1, 2013-1, 100\n"
     ]
    }
   ],
   "source": [
    "sed 's/ \\([0-9][0-9][0-9][0-9]\\), \\([0-9]*\\)/ \\1, \\2, \\1-\\2/' out.1 > out.2\n",
    "cat out.2"
   ]
  },
  {
   "cell_type": "markdown",
   "metadata": {},
   "source": [
    "Para realizar el cambio en la primera línea (el encabezado) se usaría el siguiente comando:"
   ]
  },
  {
   "cell_type": "code",
   "execution_count": 22,
   "metadata": {},
   "outputs": [
    {
     "name": "stdout",
     "output_type": "stream",
     "text": [
      "Date, Year, CustomerID, Year-CustomerID, Value\n",
      "2013-01-12, 2013, 1, 2013-1, 100\n",
      "2014-05-12, 2014, 1, 2014-1, 100\n",
      "2013-02-25, 2013, 2, 2013-2, 200\n",
      "2013-04-04, 2013, 1, 2013-1, 100\n",
      "2013-06-21, 2013, 2, 2013-2, 200\n",
      "2014-05-12, 2014, 12, 2014-12, 100\n",
      "2014-05-12, 2014, 2, 2014-2, 200\n",
      "2013-02-28, 2013, 11, 2013-11, 100\n",
      "2013-08-02, 2013, 1, 2013-1, 100\n"
     ]
    }
   ],
   "source": [
    "sed 's/\\([a-zA-Z]*\\), \\([a-zA-Z]*\\), \\([a-zA-Z]*\\), \\([a-zA-Z]*\\)/\\1, \\2, \\3, \\2-\\3, \\4/' out.2"
   ]
  },
  {
   "cell_type": "code",
   "execution_count": 21,
   "metadata": {},
   "outputs": [
    {
     "name": "stdout",
     "output_type": "stream",
     "text": [
      "Date, Year, CustomerID, Year- CustomerID, Value\n",
      "2013-01-12, 2013, 1, 2013- 1, 100\n",
      "2014-05-12, 2014, 1, 2014- 1, 100\n",
      "2013-02-25, 2013, 2, 2013- 2, 200\n",
      "2013-04-04, 2013, 1, 2013- 1, 100\n",
      "2013-06-21, 2013, 2, 2013- 2, 200\n",
      "2014-05-12, 2014, 12, 2014- 12, 100\n",
      "2014-05-12, 2014, 2, 2014- 2, 200\n",
      "2013-02-28, 2013, 11, 2013- 11, 100\n",
      "2013-08-02, 2013, 1, 2013- 1, 100\n"
     ]
    }
   ],
   "source": [
    "awk -F\",\" '{print $1\",\"$2\",\"$3\",\"$2\"-\"$3\",\"$4}' out.1 "
   ]
  },
  {
   "cell_type": "markdown",
   "metadata": {},
   "source": [
    "---"
   ]
  },
  {
   "cell_type": "markdown",
   "metadata": {},
   "source": [
    "**Ejercicio.--** Convierta el formato de las fechas de `D/M/Y` a `YYYY-MM-DD` en los archivos `order2000` ... `order2015`."
   ]
  },
  {
   "cell_type": "code",
   "execution_count": null,
   "metadata": {
    "collapsed": true
   },
   "outputs": [],
   "source": []
  },
  {
   "cell_type": "markdown",
   "metadata": {},
   "source": [
    "**Ejercicio.--** Agregue dos nuevos campos al archivo `order`; el primer campo corresponde al mes y el segundo al año. "
   ]
  },
  {
   "cell_type": "code",
   "execution_count": null,
   "metadata": {
    "collapsed": true
   },
   "outputs": [],
   "source": []
  }
 ],
 "metadata": {
  "kernelspec": {
   "display_name": "Bash",
   "language": "bash",
   "name": "bash"
  },
  "language_info": {
   "codemirror_mode": "shell",
   "file_extension": ".sh",
   "mimetype": "text/x-sh",
   "name": "bash"
  }
 },
 "nbformat": 4,
 "nbformat_minor": 2
}
